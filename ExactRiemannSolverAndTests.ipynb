{
 "cells": [
  {
   "cell_type": "markdown",
   "metadata": {},
   "source": [
    "# Code and process of  the  exact Riemann solver and test examples.\n",
    "\n",
    "## 1. possible cases\n",
    "\n",
    "If we consider all the elastic and plastic waves, there are 6*6  possible cases. For simple, we only  consider the cases in the left side and samilar process will be taken in the right.\n",
    "<img src=\"Case1.png\" width = \"350\" height = \"350\" div align=center />\n",
    "<center> Case 1\n",
    "<img src=\"Case2.png\" width = \"350\" height = \"350\" div align=center />\n",
    "    Case 2\n",
    "    <img src=\"Case3.png\" width = \"350\" height = \"350\" div align=center />\n",
    "    Case 3\n",
    "<img src=\"Case4.png\" width = \"350\" height = \"350\" div align=center />\n",
    "    Case 4\n"
   ]
  },
  {
   "cell_type": "code",
   "execution_count": 31,
   "metadata": {},
   "outputs": [],
   "source": [
    "using Distributed\n",
    "#addprocs(1)"
   ]
  },
  {
   "cell_type": "code",
   "execution_count": 32,
   "metadata": {},
   "outputs": [],
   "source": [
    "#procs(2)"
   ]
  },
  {
   "cell_type": "code",
   "execution_count": 33,
   "metadata": {},
   "outputs": [],
   "source": [
    "struct Const\n",
    "    Y0 ::Float64\n",
    "    ρ0 ::Float64\n",
    "    Γ0 ::Float64\n",
    "    μ  ::Float64\n",
    "    a0 ::Float64\n",
    "    s0 ::Float64\n",
    "end\n",
    "    \n",
    "\n",
    "struct Var\n",
    "    ρ ::Float64\n",
    "    u ::Float64\n",
    "    p ::Float64\n",
    "    sxx::Float64\n",
    "end\n"
   ]
  },
  {
   "cell_type": "markdown",
   "metadata": {},
   "source": [
    "\n",
    "$$f(\\eta) = \\frac{(\\eta-1)(\\eta-\\Gamma_0(\\eta-1)/2)}{(\\eta-s_0(\\eta-1))^2}$$\n",
    "$$f'(\\eta) = \\frac{\\eta+(s_0-\\Gamma_0)(\\eta-1)}{(\\eta-s_0(\\eta-1))^3}$$"
   ]
  },
  {
   "cell_type": "code",
   "execution_count": 34,
   "metadata": {},
   "outputs": [
    {
     "data": {
      "text/plain": [
       "fηη (generic function with 1 method)"
      ]
     },
     "execution_count": 34,
     "metadata": {},
     "output_type": "execute_result"
    }
   ],
   "source": [
    "function fη(ρ::Float64,c::Const)\n",
    "    η = ρ/c.ρ0\n",
    "    fη=(η-1.0)*(η-c.Γ0*(η-1.0)/2.0)/(η-c.s0*(η-1))^2\n",
    "end\n",
    "\n",
    "function fηη(ρ::Float64,c::Const)\n",
    "    η = ρ/c.ρ0\n",
    "    fηη=(η+(c.s0-c.Γ0)*(η-1))/(η-c.s0*(η-1))^3\n",
    "end"
   ]
  },
  {
   "cell_type": "markdown",
   "metadata": {},
   "source": [
    "$$ c=\\sqrt{a^2-\\frac{\\rho_0}{\\rho^2}\\Gamma_0s_{xx}+\\frac{4}{3}\\frac{\\mu}{\\rho}}$$\n",
    "$$ a^2= a_0^2 f'(\\eta)+\\frac{p}{\\rho^2}\\rho_0\\Gamma_0$$\n",
    "\n",
    "if $|s_{xx}| \\ge \\frac{2}{3}Y_0$ then sound speed is change to \n",
    "$$ c=\\sqrt{a^2-\\frac{\\rho_0}{\\rho^2}\\Gamma_0s_{xx}}$$"
   ]
  },
  {
   "cell_type": "code",
   "execution_count": 35,
   "metadata": {},
   "outputs": [
    {
     "data": {
      "text/plain": [
       "sound (generic function with 4 methods)"
      ]
     },
     "execution_count": 35,
     "metadata": {},
     "output_type": "execute_result"
    }
   ],
   "source": [
    "function sound(uo::Array{Float64,1},con::Const,EoP::Int=1)\n",
    "    a0  = con.a0\n",
    "    ρ0  = con.ρ0\n",
    "    Γ0  = con.Γ0\n",
    "    Y0  = con.Y0\n",
    "    μ   = con.μ\n",
    "    ρ   = uo[1]\n",
    "    uu  = uo[2]\n",
    "    p   = uo[3]\n",
    "    sxx = uo[4]\n",
    "    a2  = a0^2*fηη(ρ,con)+p/ρ^2*ρ0*Γ0\n",
    "  #  c = ftest(a2,ρ0,ρ,Γ0,sxx,μ,a0,fηη(ρ,con),p)\n",
    "    if EoP == 2\n",
    "        c=sqrt(a2-ρ0/ρ^2*Γ0*sxx)\n",
    "        return c\n",
    "    else\n",
    "        c=sqrt(a2-ρ0/ρ^2*Γ0*sxx+4.0/3*μ/ρ)\n",
    "        return c\n",
    "    end\n",
    "end\n",
    "\n",
    "function sound(U::Const,con::Const,EoP::Int = 1)\n",
    "    a0,ρ0,Γ0,μ,Y0 = con.a0, con.ρ0, con.Γ0, con.μ,con.Y0\n",
    "    ρ,u,p,sxx    = U.ρ, U.u,U.p,U.sxx\n",
    "    a2  = a0^2*fηη(ρ,con)+p/ρ^2*ρ0*Γ0 \n",
    "    if EoP == 2\n",
    "        c=sqrt(a2-ρ0/ρ^2*Γ0*sxx)\n",
    "        return c\n",
    "    else\n",
    "        c=sqrt(a2-ρ0/ρ^2*Γ0*sxx+4.0/3*μ/ρ)\n",
    "        return c\n",
    "    end\n",
    "end\n"
   ]
  },
  {
   "cell_type": "markdown",
   "metadata": {},
   "source": [
    "Mie-Gr\\\"uneisen equation of state\n",
    "$$e =\\frac{p-\\rho_0a_0^2f(\\eta)}{\\rho_0\\Gamma_0}$$\n",
    "\n",
    "$$p = \\rho_0a_0^2f(\\eta)+\\rho_0\\Gamma_0e$$"
   ]
  },
  {
   "cell_type": "code",
   "execution_count": 36,
   "metadata": {},
   "outputs": [
    {
     "data": {
      "text/plain": [
       "EToP (generic function with 1 method)"
      ]
     },
     "execution_count": 36,
     "metadata": {},
     "output_type": "execute_result"
    }
   ],
   "source": [
    "function PToe(ρ::Float64,p::Float64,con::Const)\n",
    "    c=con\n",
    "    ei = (p-c.ρ0*c.a0^2*fη(ρ,c))/(c.ρ0*c.Γ0)\n",
    "    return ei\n",
    "end\n",
    "function EToP(ρ::Float64,ei::Float64,con::Const)\n",
    "    c=con\n",
    "    p = c.ρ0*c.Γ0*ei+c.ρ0*c.a0^2*fη(ρ,c)\n",
    "    return p\n",
    "end"
   ]
  },
  {
   "cell_type": "markdown",
   "metadata": {},
   "source": [
    "## 2.Using a HLLCE process  ro pre-evaluate\n",
    "consider a two shock wave case\n",
    "<img src=\"Case5.png\" width = \"350\" height = \"350\" div align=center />\n",
    " <center>   With only plastic or plastic shock wave"
   ]
  },
  {
   "cell_type": "markdown",
   "metadata": {},
   "source": [
    " using the relation of $u_L^* =u_R^* = s^*$, the speed of contact wave can be evaluated as\n",
    "\\begin{equation}\n",
    " \\hat{s}^* = \\frac{\\sigma_L-\\sigma_R+\\rho_L u_L(s_L-u_L)-\\rho_R u_R(s_R-u_R)}{\\rho_L(s_L-u_L)-\\rho_R(s_R-u_R)},\n",
    "\\end{equation}\n",
    "the density is solved as\n",
    "\\begin{equation}\\label{eq:rhoLs}\n",
    "  \\hat{\\rho}_L^* = \\frac{\\rho_L(u_L-s_L)}{\\hat{s}^*-s_L}.\n",
    "\\end{equation}\n",
    "Similarly, the density behind the right going wave can be given as\n",
    "\\begin{equation}\n",
    "  \\hat{\\rho}_R^* = \\frac{\\rho_R(u_R-s_R)}{\\hat{s}^*-s_R}.\n",
    "\\end{equation}\n",
    "\n"
   ]
  },
  {
   "cell_type": "markdown",
   "metadata": {},
   "source": [
    "The deviatoric stress is evaluated as\n",
    "\\begin{equation}  \\label{sxx1}\n",
    "  \\hat{s}_{xxL}^*=-\\frac{4}{3}\\mu\\text{ln}(\\frac{\\hat{\\rho}_L^*}{\\rho_L})+s_{xxL}, \\quad   \\hat{s}_{xxR}^*=-\\frac{4}{3}\\mu\\text{ln}(\\frac{\\hat{\\rho}_R^*}{\\rho_R})+s_{xxR}.\n",
    "\\end{equation}\n",
    "\n",
    "If the speeds of left and right going waves are given, we can evaluate all states in the star regions on the two sides of  the contact wave. Here we define the speeds of left and right going waves as\n",
    "    \\begin{equation}\n",
    "      s_L = \\text{min} (u_L-c_L, u_R-c_R, 0),  \\quad s_R = \\text{max}(u_L+c_L, u_R+c_R, 0).\n",
    "    \\end{equation}\n"
   ]
  },
  {
   "cell_type": "code",
   "execution_count": 37,
   "metadata": {},
   "outputs": [
    {
     "data": {
      "text/plain": [
       "Presolve (generic function with 1 method)"
      ]
     },
     "execution_count": 37,
     "metadata": {},
     "output_type": "execute_result"
    }
   ],
   "source": [
    "function Presolve(varL::Var, varR::Var, conL::Const,conR::Const)\n",
    "        \n",
    "    ρL, uL, pL, sxxL = varL.ρ, varL.u, varL.p, varL.sxx\n",
    "    ρR, uR, pR, sxxR = varR.ρ, varR.u, varR.p, varR.sxx\n",
    "    σL  = -pL+sxxL\n",
    "    \n",
    "    UL = [ρL, uL, pL, sxxL]\n",
    "    UR = [ρR, uR, pR, sxxR]\n",
    "    cL = sound(UL[:],conL)\n",
    "    \n",
    "    σR  = -pR+sxxR\n",
    "    cR = sound(UR[:],conR)\n",
    "\n",
    "    \n",
    "    sL = min(uL-cL, uR-cR)\n",
    "    sR = max(uL+cL, uR+cR)\n",
    "        \n",
    "    s_star = (σL - σR + ρL*uL*(sL-uL) - ρR* uR*(sR-uR))/(ρL*(sL-uL)-ρR*(sR-uR))\n",
    "        \n",
    "    ρLstar = ρL*(uL-sL)/(s_star - sL)\n",
    "    ρRstar = ρR*(uR-sR)/(s_star - sR)\n",
    "        \n",
    "    sxxLstar =  sxxL -4/3*conL.μ *(log(ρLstar) - log(ρL))\n",
    "    sxxRstar =  sxxR -4/3*conR.μ *(log(ρRstar) - log(ρR))\n",
    "\n",
    "    caseL = CaseSelect(sxxL,sxxLstar, ρL, ρLstar,conL,1)\n",
    "    caseR = CaseSelect(sxxR,sxxRstar, ρR, ρRstar,conR,2)\n",
    "    σLstar = σL -ρL*(sL-uL)*(s_star-uL)\n",
    "    pLstar =sxxLstar - σLstar\n",
    "\n",
    "    return ρLstar, ρRstar, caseL,caseR\n",
    "end"
   ]
  },
  {
   "cell_type": "markdown",
   "metadata": {},
   "source": [
    "## 3.Classify\n",
    "Also consider the cases in the left, \n",
    "### Case 1\n",
    "The deviatoric stress satisfies \n",
    "$$| \\hat{s}_{xxL}^* | \\ge  \\frac{2}{3}Y_0   \\quad \\text{and} \\quad | s_{xxL} | \\ge  \\frac{2}{3}Y_0 \\quad  \\\\\\text{or} \\quad | \\hat{s}_{xxL}^* | \\lt  \\frac{2}{3}Y_0   \\quad \\text{and} \\quad | s_{xxL} | \\lt  \\frac{2}{3}Y_0 $$ \n",
    "\n",
    "The density satisfies\n",
    "    $$ \\hat{\\rho}_L^* < \\rho_L$$\n"
   ]
  },
  {
   "cell_type": "markdown",
   "metadata": {},
   "source": [
    "### Case 2\n",
    "The deviatoric stress satisfies \n",
    "$$| \\hat{s}_{xxL}^* | \\ge  \\frac{2}{3}Y_0   \\quad \\text{and} \\quad | s_{xxL} | \\lt  \\frac{2}{3}Y_0  $$ \n",
    "\n",
    "The density satisfies\n",
    "    $$ \\hat{\\rho}_L^* < \\rho_L$$"
   ]
  },
  {
   "cell_type": "markdown",
   "metadata": {},
   "source": [
    "### Case 3\n",
    "The deviatoric stress satisfies \n",
    "$$| \\hat{s}_{xxL}^* | \\ge  \\frac{2}{3}Y_0   \\quad \\text{and} \\quad | s_{xxL} | \\ge  \\frac{2}{3}Y_0 \\quad  \\\\\\text{or} \\quad | \\hat{s}_{xxL}^* | \\lt  \\frac{2}{3}Y_0   \\quad \\text{and} \\quad | s_{xxL} | \\lt  \\frac{2}{3}Y_0 $$ \n",
    "The density satisfies\n",
    "    $$ \\hat{\\rho}_L^* > \\rho_L$$\n"
   ]
  },
  {
   "cell_type": "markdown",
   "metadata": {},
   "source": [
    "### Case 4\n",
    "The deviatoric stress satisfies \n",
    "$$| \\hat{s}_{xxL}^* | \\ge  \\frac{2}{3}Y_0   \\quad \\text{and} \\quad | s_{xxL} | \\lt  \\frac{2}{3}Y_0  $$ \n",
    "\n",
    "The density satisfies\n",
    "    $$ \\hat{\\rho}_L^* > \\rho_L$$"
   ]
  },
  {
   "cell_type": "code",
   "execution_count": 90,
   "metadata": {},
   "outputs": [
    {
     "data": {
      "text/plain": [
       "CaseSelect (generic function with 2 methods)"
      ]
     },
     "execution_count": 90,
     "metadata": {},
     "output_type": "execute_result"
    }
   ],
   "source": [
    "function CaseSelect(sxx₀::Float64,ρ₀::Float64, ρ₁::Float64,con::Const)\n",
    "    Y0 = con.Y0\n",
    "     sxx₁ =  sxx₀ -4/3*con.μ *(log(ρ₁) - log(ρ₀))\n",
    "       \n",
    "        if ρ₁ > ρ₀   #Shock\n",
    "                if sxx₀ ≤ -2/3*Y0            \n",
    "                    case = Shock(2) # Sᵖ\n",
    "                elseif sxx₁ ≤ -2/3*Y0\n",
    "                    case = Shock(3) # SᵉSᵖ\n",
    "                else\n",
    "                    case = Shock(1) # Sᵉ\n",
    "                end\n",
    "            else   #Rarefaction\n",
    "                if sxx₀ ≥ 2/3*Y0\n",
    "                    case = Rare(2) #Rᵖ\n",
    "                elseif sxx₁ ≥  2/3*Y0\n",
    "                    case = Rare(3) # RᵉRᵖ\n",
    "                else\n",
    "                    case = Rare(1) #Rᵉ\n",
    "                end\n",
    "            end\n",
    "    return case\n",
    "end"
   ]
  },
  {
   "cell_type": "markdown",
   "metadata": {},
   "source": [
    "# 4. Functions of $u^*(\\rho)$, $s_{xx}^*(\\rho)$ and $p^*(\\rho)$ in different cases"
   ]
  },
  {
   "cell_type": "markdown",
   "metadata": {},
   "source": [
    "## (1) One Rarefaction wave\n",
    "\n",
    "<img src=\"Case1.png\" width = \"500\" height = \"500\" div align=center />\n",
    "如图，根据膨胀波关系式有\n",
    "\n",
    "\\begin{equation}\n",
    "    du+\\frac{c}{\\rho} d\\rho= 0\\\\\n",
    "    d\\sigma +c^2 d\\rho = 0\n",
    "\\end{equation}\n",
    " where $\\sigma = -p +s_{xx}$, and \n",
    " \\begin{equation}\n",
    "    dp-S^2d\\rho = 0\\\\\n",
    "    ds_{xx}+\\frac{4\\mu}{3\\rho} d\\rho= 0 \n",
    "    \\end{equation}\n",
    "Integration from $Q_L$ to $Q^*_L$\n",
    "\\begin{equation}\n",
    "u_L^* =- \\int_{\\rho_L}^{\\rho^*_L}\\frac{c}{\\rho}d\\rho + u_L\\\\\n",
    "\\sigma_L^* = -\\int_{\\rho_L}^{\\rho^*_L} c^2 d\\rho +\\sigma_L\n",
    "\\end{equation}\n",
    "and \n",
    "\\begin{equation}\n",
    "p_L^* = \\int_{\\rho_L}^{\\rho^*_L}S^2 d\\rho + p_L\\\\\n",
    "s_{xxL}^* = -\\int_{\\rho_L}^{\\rho^*_L} \\frac{4\\mu}{3\\rho} d\\rho +s_{xxL}\n",
    "\\end{equation}\n"
   ]
  },
  {
   "cell_type": "markdown",
   "metadata": {},
   "source": [
    "For right side\n",
    "\\begin{equation}\n",
    "u_R^* = \\int_{\\rho_R}^{\\rho^*_R}\\frac{c}{\\rho}d\\rho + u_R\\\\\n",
    "\\sigma_R^* = -\\int_{\\rho_R}^{\\rho^*_R} c^2 d\\rho +\\sigma_R\n",
    "\\end{equation}\n",
    "and \n",
    "\\begin{equation}\n",
    "p_R^* = \\int_{\\rho_R}^{\\rho^*_R}S^2 d\\rho + p_R\\\\\n",
    "s_{xxR}^* = -\\int_{\\rho_R}^{\\rho^*_R} \\frac{4\\mu}{3\\rho} d\\rho +s_{xxR}\n",
    "\\end{equation}"
   ]
  },
  {
   "cell_type": "code",
   "execution_count": 89,
   "metadata": {},
   "outputs": [],
   "source": [
    "struct Shock\n",
    "    cs::Int \n",
    "end\n",
    "\n",
    "struct Rare\n",
    "    cs::Int\n",
    "    \n",
    "end\n",
    "##case 说明  cs=1 为单弹性波 cs=2 单塑性波\n",
    "##          cs=3 同时弹塑性波"
   ]
  },
  {
   "cell_type": "markdown",
   "metadata": {},
   "source": [
    "$s_{xxL}^*$ can be given directly as\n",
    "$$s_{xx}(\\rho) = s_{xxL} - \\frac{4}{3}\\mu [\\text{ln}(\\rho) - \\text{ln}(\\rho_L)] $$\n"
   ]
  },
  {
   "cell_type": "code",
   "execution_count": 40,
   "metadata": {},
   "outputs": [
    {
     "data": {
      "text/plain": [
       "Sxx (generic function with 1 method)"
      ]
     },
     "execution_count": 40,
     "metadata": {},
     "output_type": "execute_result"
    }
   ],
   "source": [
    "function Sxx(ρ, var0::Var, con::Const)\n",
    "    sxx0,ρ0 = var0.sxx,var0.ρ\n",
    "    Y0   = con.Y0\n",
    "    \n",
    "    sxx = sxx0 -4/3*con.μ *(log(ρ) - log(ρ0))\n",
    "    if abs(sxx) ≥ 2/3*Y0\n",
    "        sxx = 2/3*Y0*sign(sxx)\n",
    "    end\n",
    "    return sxx\n",
    "end"
   ]
  },
  {
   "cell_type": "markdown",
   "metadata": {},
   "source": [
    "Then we evaluate $p_L^*$, as\n",
    "$$S^2 = a^2 - \\rho_0 \\Gamma_0 \\frac{s_{xx}}{\\rho^2} = a_0^2\\frac{\\partial f}{\\partial \\eta}+\\frac{p}{\\rho^2}\\rho_0\\Gamma_0-\\rho_0 \\Gamma_0\\frac{s_{xx}}{\\rho^2}$$\n"
   ]
  },
  {
   "cell_type": "markdown",
   "metadata": {},
   "source": [
    "So \n",
    "$p(\\rho)$ is in the form of \n",
    "$$ \\tag{2.1} p(\\rho) = \\int_{\\rho_L}^{\\rho} \\lambda_1 \\frac{p}{\\rho^2}+ f_2(\\rho) d\\rho + p_L$$\n",
    "where \n",
    "$$ \\lambda_1 = \\rho_0 \\Gamma_0 \\quad f_2(\\rho) = a_0^2\\frac{\\partial f}{\\partial \\eta}- \\lambda_1\\frac{s_{xx}(\\rho)}{\\rho^2}$$\n",
    "it can be written in the different form as\n"
   ]
  },
  {
   "cell_type": "markdown",
   "metadata": {},
   "source": [
    "$$p'(\\rho) - \\lambda_1 \\frac{p}{\\rho^2} = f_2(\\rho), \\quad p(\\rho_L) = p_L$$ \n",
    "it can be solved out as \n",
    "$$ p(\\rho) = p_Le^{\\frac{\\lambda_1}{\\rho_L}-\\frac{\\lambda_1}{\\rho}} +e^{-\\frac{\\lambda_1}{\\rho}}\\int_{\\rho_L}^\\rho f_2(x) e^{\\frac{\\lambda_1}{x}}dx$$"
   ]
  },
  {
   "cell_type": "code",
   "execution_count": 41,
   "metadata": {},
   "outputs": [
    {
     "data": {
      "text/plain": [
       "f3 (generic function with 1 method)"
      ]
     },
     "execution_count": 41,
     "metadata": {},
     "output_type": "execute_result"
    }
   ],
   "source": [
    "function fp(ρ::Float64, var0::Var, con::Const, case::Rare)\n",
    "    sxx₀,ρ₀,p₀ =var0.sxx, var0.ρ,var0.p\n",
    "    ρ0,Γ0,a0,Y0= con.ρ0,con.Γ0,con.a0,con.Y0 \n",
    "    λ₁ = ρ0*Γ0\n",
    "\n",
    "            \n",
    "           p = p₀*exp(λ₁/ρ₀ - λ₁/ρ) + exp(-λ₁/ρ)*GaussIntegral(ρ->\n",
    "           f3(ρ,con,var0,λ₁,a0)*exp(λ₁/ρ), ρ₀, ρ,5)\n",
    "\n",
    "           return p \n",
    "    \n",
    "end\n",
    "  \n",
    "f3(ρ::Float64,con::Const,var0::Var,λ₁::Float64,a0::Float64) =a0^2*fηη(ρ, con) -λ₁*Sxx(ρ, var0,con)/ρ^2"
   ]
  },
  {
   "cell_type": "markdown",
   "metadata": {},
   "source": [
    "According to $\\sigma = -p +s_{xx}$ we can get $\\sigma(\\rho)$.\n",
    "$$ g_L(\\rho^*_L) =\\sigma_L^*= -p(\\rho_L^*)+s_{xx}(\\rho_L^*)$$\n",
    "As $c^2 = S^2 +\\frac{4\\mu}{3\\rho}$, \n",
    "$$ u_L^* = u_L - \\int_{\\rho_L}^{\\rho^*_L} \n",
    "\\frac{c}{\\rho}d\\rho$$\n",
    "can be solve by the numerical integral, and \n",
    "$$ f_L(\\rho^*_L) = u_L^*$$"
   ]
  },
  {
   "cell_type": "code",
   "execution_count": 75,
   "metadata": {},
   "outputs": [
    {
     "data": {
      "text/plain": [
       "f2 (generic function with 1 method)"
      ]
     },
     "execution_count": 75,
     "metadata": {},
     "output_type": "execute_result"
    }
   ],
   "source": [
    "function fu(ρ::Float64, var0::Var, con::Const,case::Rare)\n",
    "    ρ₀,u₀ = var0.ρ, var0.u\n",
    "    \n",
    "    \n",
    "    if case.cs == 1 ||  case.cs ==2\n",
    "        u = u₀ - GaussIntegral(ρ->f2(ρ,con,var0,case), ρ₀, ρ, 7)\n",
    "    else\n",
    "         u = u₀ + GaussIntegral(ρ->f2(ρ,con,var0,case), ρ₀, ρ, 7)   \n",
    "    end\n",
    "    \n",
    "    return u\n",
    "end\n",
    "function f2(ρ::Float64,con::Const,var0::Var,case::Rare)\n",
    "    a0,ρ0,Γ0,μ,Y0= con.a0, con.ρ0, con.Γ0, con.μ,con.Y0\n",
    "    λ₁ = ρ0*Γ0\n",
    "    sxx₀ = var0.sxx\n",
    "    S2 = f3(ρ,con,var0,λ₁,a0) +λ₁*fp(ρ,var0,con,case)/ρ^2\n",
    " #   @show sxx₀, Y0\n",
    "    if sxx₀ ≥ 2/3*Y0   ####!!!\n",
    "       f2 = √(S2)/ρ\n",
    "    #    @show f2\n",
    "        return f2\n",
    "    else \n",
    "        f2 = √(S2 + 4μ/(3ρ))/ρ\n",
    "        \n",
    "        return f2\n",
    "    end\n",
    "  \n",
    "end"
   ]
  },
  {
   "cell_type": "markdown",
   "metadata": {},
   "source": [
    "### Numerical intergration\n",
    "We use the Gaussian quadradure to intergrate the integrations above.\n",
    "\n",
    "For a function $f(x)$,  the intergration from $-1$ to $1$ is given as\n",
    "$$ \n",
    "  \\int_{-1}^1 f(x)dx \\approx \\sum_{i=0}^n \\omega_i f(p_i)\n",
    "$$\n",
    "$\\omega_i$ is the weight, and $p_i$ is the integrating point.\n",
    "For different orders they are listed as\n",
    "\n",
    "|number of points,$n$| Points, $p_i$| Weights, $\\omega_i$|\n",
    "|:-----|-----:|:-----:|\n",
    "|1     |0     |2      |\n",
    "|2     |$\\pm \\frac{1}{\\sqrt{3}}$| 1|\n",
    "|3     |0, $\\pm \\sqrt{\\frac{3}{5}}$| $\\frac{8}{9}$,$\\frac{5}{9}$, $\\frac{5}{9}$|\n",
    "\n",
    "For a integral over $[x_0,x_1]$, this change of interval can be done as \n",
    " $$ \\int_{x_0}^{x_1}f(x) dx= \\frac{x_1-x_0}{2}\\int_{-1}^{1} f(\\frac{x_1-x_0}{2}x+\\frac{x_0+x_1}{2})dx\n",
    " $$"
   ]
  },
  {
   "cell_type": "code",
   "execution_count": 43,
   "metadata": {},
   "outputs": [
    {
     "data": {
      "text/plain": [
       "GaussIntegral (generic function with 1 method)"
      ]
     },
     "execution_count": 43,
     "metadata": {},
     "output_type": "execute_result"
    }
   ],
   "source": [
    "function GaussIntegral(f::Function,x₀::Float64,x₁::Float64,order::Int)\n",
    "    t₁= (x₁-x₀)/2\n",
    "    t₂= (x₁+x₀)/2\n",
    "    ω = zeros(Float64, 5)\n",
    "    p = zeros(Float64, 5)\n",
    "    \n",
    "    if order == 1\n",
    "        ω[1] = 2.0\n",
    "        p[1] = 0.0\n",
    "    elseif order == 3\n",
    "        ω[1] = 1.0; ω[2] = 1.0\n",
    "        p[1] = 1/√3.0; p[2] = -1/√3.0\n",
    "    elseif order == 5\n",
    "        ω[1] = 8.0/9; ω[2] = 5.0/9; ω[3] = 5.0/9\n",
    "        p[1] = 0.0; p[2] = -√(3.0/5); p[3] = √(3.0/5)\n",
    "    elseif order == 7\n",
    "        ω[1] = (18+√30)/36; ω[2] = (18+√30)/36\n",
    "        ω[3] = (18-√30)/36; ω[4] = (18-√30)/36\n",
    "        p[1] = √(3/7-2/7*√(6/5)); p[1] = -√(3/7-2/7*√(6/5))\n",
    "        p[3] = √(3/7+2/7*√(6/5)); p[4] = -√(3/7+2/7*√(6/5))\n",
    "    end\n",
    "    ∑ =sum( t₁*ω[i]*f(t₁*p[i]+t₂) for i in 1:floor(Int,order/2)+1)\n",
    "\n",
    "    return ∑\n",
    "end"
   ]
  },
  {
   "cell_type": "markdown",
   "metadata": {},
   "source": [
    "## (2) Two rarefaction wave \n",
    "<img src=\"Case2.png\" width = \"500\" height = \"500\" div align=center />"
   ]
  },
  {
   "cell_type": "markdown",
   "metadata": {},
   "source": [
    "### 弹性稀疏波后状态\n",
    " In the region $\\widetilde{Q}_L$\n",
    "$$\n",
    "  \\widetilde{s}_{xxL} =\\frac{2}{3}Y_0\n",
    "$$\n",
    "and the density is\n",
    "$$ \\widetilde{\\rho}_L = \\rho_L \\text{exp}\\left(-\\frac{Y_0}{2\\mu}+\\frac{3 s_{xxL}}{4\\mu}\\right)$$\n"
   ]
  },
  {
   "cell_type": "markdown",
   "metadata": {},
   "source": [
    "According to ($2.1$) we can solve the pressure $\\widetilde{p}_L$ ,then the velocity $\\widetilde{u}_L$  is solved out."
   ]
  },
  {
   "cell_type": "code",
   "execution_count": 44,
   "metadata": {},
   "outputs": [
    {
     "data": {
      "text/plain": [
       "Ṽar (generic function with 1 method)"
      ]
     },
     "execution_count": 44,
     "metadata": {},
     "output_type": "execute_result"
    }
   ],
   "source": [
    "function Ṽar(var0::Var, case, con::Const)\n",
    "\n",
    "    Y0, μ= con.Y0, con.μ\n",
    "    sxx,ρ = var0.sxx,var0.ρ\n",
    "\n",
    "    cs = case.cs\n",
    "    if cs == 1 || cs == 3\n",
    "        var1 = var0\n",
    "    elseif cs == 2 || cs == 4\n",
    "        \n",
    "        if typeof(case) == Rare \n",
    "            sxx1 = 2/3*Y0\n",
    "            ρ1 = ρ*exp(-Y0/(2μ)+(3sxx)/(4μ))\n",
    "        elseif typeof(case) == Shock\n",
    "            sxx1 = -2/3*Y0\n",
    "            ρ1 = ρ*exp(Y0/(2μ)+(3sxx)/(4μ))\n",
    "        end\n",
    "        p1 = fp(ρ1, var0, con, case)\n",
    "        u1 = fu(ρ1, var0, con, case)\n",
    "    \n",
    "        var1= Var(ρ1, u1, p1, sxx1)\n",
    "    end\n",
    "    return var1\n",
    "end\n"
   ]
  },
  {
   "cell_type": "markdown",
   "metadata": {},
   "source": [
    "### From state $\\widetilde{Q}_L$  to state $Q_L^*$ \n",
    "\n",
    "The process is same to Case 1. "
   ]
  },
  {
   "cell_type": "markdown",
   "metadata": {},
   "source": [
    "## (3) One shock wave\n",
    "\n",
    "<img src=\"Case3.png\" width = \"500\" height = \"500\" div align=center />\n",
    "According to the ralation of Runkine-Hugoniot,\n",
    "\n",
    "\\begin{equation} \\tag{1.2}\n",
    "F_L^*=F_L+s_L(U_L^*-U_L)\n",
    "  \\end{equation}\n"
   ]
  },
  {
   "cell_type": "markdown",
   "metadata": {},
   "source": [
    "As is\n",
    "\\begin{align}\n",
    "    &\\rho^*_L(u^*_L-s_L) = \\rho_L(u_L-s_L), \\tag{1.3}\\\\\n",
    "    &\\rho^*_Lu^*_L(u^*_L-s_L) = \\rho_Lu_L(u_L-s_L)+\\sigma^*_L-\\sigma_L,  \\tag{1.4}\\\\\n",
    "    &\\rho^*_LE^*_L(u^*_L-s_L) = \\rho_LE_L(u_L-s_L)+\\sigma^*_L u^*_L-\\sigma_Lu_L, \\tag{1.5}\\\\\n",
    "\\end{align}\n"
   ]
  },
  {
   "cell_type": "markdown",
   "metadata": {},
   "source": [
    "According to ($1.3$) we have \n",
    "\\begin{equation}\\tag{1.6}\n",
    "s_L = \\frac{\\rho_L^* u_L^* - \\rho_L u_L}{\\rho_L^*-\\rho_L}\n",
    "\\end{equation}"
   ]
  },
  {
   "cell_type": "markdown",
   "metadata": {},
   "source": [
    "Subtituting ($1.3$) into ($1.4$) yields\n",
    "\\begin{equation}\\tag{1.7}\n",
    "\\rho_L(u^*_L-u_L)(u_L-s_L) = \\sigma_L^*-\\sigma_L\n",
    "\\end{equation}"
   ]
  },
  {
   "cell_type": "markdown",
   "metadata": {},
   "source": [
    "Also according to ($1.3$), we have \n",
    "\\begin{equation}\n",
    "u_L-s_L = \\frac{(u_L - u_L^*)\\rho_L^*}{\\rho_L^* -\\rho_L}\n",
    "\\end{equation}\n",
    "Then subtituting it into ($1.7$)\n",
    "\\begin{equation}\\tag{1.8}\n",
    "  -t(u^*_L-u_L)^2 = \\sigma^*_L-\\sigma_L,\n",
    "\\end{equation}\n",
    "where $ t=\\frac{\\rho_L \\rho^*_L}{\\rho^*_L-\\rho_L}$.\n",
    "\n",
    "Similar to (1.7), (1.5) can be changed into\n",
    "$$ \\tag{1.9} t(u_L-u^*_L)(E^*_L-E_L) =\\sigma^*_L u^*_L-\\sigma_Lu_L\n",
    "$$\n"
   ]
  },
  {
   "cell_type": "markdown",
   "metadata": {},
   "source": [
    "Because $E = e+\\frac{1}{2}u^2$, we can get \n",
    "$$ \\tag{1.10}\n",
    "e_L^* - e_L = - \\frac{\\sigma_L +\\sigma_L^*}{2t}\n",
    "$$\n",
    "Also we use the EOS of Mie-Gr\\\"uniesen  \n",
    "$$\\tag{1.11}\n",
    "  p(\\rho,e) = \\rho_0 a_0^2f(\\eta)+ \\rho_0 \\Gamma_0 e,\n",
    "$$\n",
    "can get\n",
    "$$ \\tag{1.12}\n",
    "  e=c_0 p-c_1f(\\rho/\\rho_0),\n",
    "$$\n",
    "where $c_0=\\frac{1}{\\rho_0\\Gamma_0}$ and $c_1=\\frac{a_0^2}{\\Gamma_0}$.\n",
    "\n",
    "Using (1.12), from (1.10) we can get \n",
    " $$ \\tag{1.13}\n",
    " p^*_L= \\frac{2t(c_1f(\\rho^*_L)+e_L)-(\\sigma_L+s^*_{xxL})}{2tc_0-1},\n",
    "$$"
   ]
  },
  {
   "cell_type": "markdown",
   "metadata": {},
   "source": [
    "And we use the relation of $s_{xxL}$ and $\\rho$\n",
    "$$  s_{xxL}^*=s_{xxL}^*(\\rho_L^*)=-\\frac{4}{3}\\mu\\text{ln}(\\frac{\\rho^*_{L}}{\\rho_{L}})+s_{xxL}\n",
    "$$\n",
    "we can get\n",
    "$$ \\tag{1.14} \\sigma_L^*  = \\frac{2t[c_1f(\\rho^*_L)-c_0 s_{xxL}^*(\\rho^*_L)+e_L] -\\sigma_L}{1-2tc_0}$$"
   ]
  },
  {
   "cell_type": "code",
   "execution_count": 45,
   "metadata": {},
   "outputs": [
    {
     "data": {
      "text/plain": [
       "fp (generic function with 2 methods)"
      ]
     },
     "execution_count": 45,
     "metadata": {},
     "output_type": "execute_result"
    }
   ],
   "source": [
    "function fp(ρ::Float64, var0::Var, con::Const,case::Shock)\n",
    "   \n",
    "    ρ₀,p₀,sxx₀ = var0.ρ,var0.p,var0.sxx\n",
    "    ρ0,Γ0,a0 = con.ρ0,con.Γ0,con.a0\n",
    "    \n",
    "    σ₀ = -p₀+sxx₀\n",
    "    e₀ =  PToe(ρ₀, p₀, con)\n",
    "   # @show e₀\n",
    "    t =  (ρ-ρ₀)/(ρ₀*ρ) ; c₀ = 1/(Γ0*ρ0); c₁= a0^2/Γ0\n",
    "  \n",
    "    p = (2(c₁*fη(ρ,con) + e₀) -t*(σ₀+Sxx(ρ,var0,con)))/(-t+2c₀)\n",
    " \n",
    "    return p\n",
    "end"
   ]
  },
  {
   "cell_type": "markdown",
   "metadata": {},
   "source": [
    "Using ($1.8$) we have \n",
    "$$ \\tag{1.15} \n",
    "u_L^* = u_L - \\sqrt{\\frac{\\sigma_L-\\sigma_L^*}{t}} $$\n"
   ]
  },
  {
   "cell_type": "code",
   "execution_count": 46,
   "metadata": {},
   "outputs": [
    {
     "data": {
      "text/plain": [
       "fu (generic function with 2 methods)"
      ]
     },
     "execution_count": 46,
     "metadata": {},
     "output_type": "execute_result"
    }
   ],
   "source": [
    "function fu(ρ::Float64, var0::Var, con::Const,case::Shock)\n",
    "   \n",
    "    ρ₀,u₀,p₀,sxx₀ = var0.ρ,var0.u,var0.p,var0.sxx\n",
    "    σ₀ = -p₀+sxx₀\n",
    "    \n",
    "    sxx=Sxx(ρ,var0,con)\n",
    "    p  = fp(ρ, var0, con, case)\n",
    "    σ = -p+sxx\n",
    "    \n",
    "    t =  (ρ-ρ₀)/(ρ₀*ρ)\n",
    "    if case.cs == 1 || case.cs == 2\n",
    "        u = u₀ - √(t*(σ₀ - σ))\n",
    "    \n",
    "    else\n",
    "        u = u₀ + √(t*(σ₀ - σ))\n",
    "    end\n",
    "#    @show t, σ₀ - σ\n",
    "    return u\n",
    "end"
   ]
  },
  {
   "cell_type": "markdown",
   "metadata": {},
   "source": [
    "## (4) Two shock waves\n",
    "<img src=\"Case4.png\" width = \"500\" height = \"500\" div align=center />"
   ]
  },
  {
   "cell_type": "markdown",
   "metadata": {},
   "source": [
    "### 弹性激波后状态\n",
    " In the region $\\widetilde{Q}_L$\n",
    "$$\n",
    "  \\widetilde{s}_{xxL} =\\frac{2}{3}Y_0\n",
    "$$\n",
    "and the density is\n",
    "$$ \\widetilde{\\rho}_L = \\rho_L \\text{exp}\\left(\\frac{Y_0}{2\\mu}+\\frac{3 s_{xxL}}{4\\mu}\\right)$$\n",
    "From ($1.14$) and ($1.15$)  other viriables can be get.\n",
    "Then use the same process from $\\widetilde{Q}_L$ to $Q_L^*$ as Case 3. "
   ]
  },
  {
   "cell_type": "markdown",
   "metadata": {},
   "source": [
    "## 5. Iteration to get convergence $\\rho^*_L$ and $\\rho^*_R$.\n",
    "Let $f_{L}(\\rho^*_L) = u_L^* $ and $g_{L}(\\rho^*_L) = \\sigma_L^*$, samilarly, we let\n",
    "$f_{R}(\\rho^*_R) = u_R^*$ and $g_{R}(\\rho^*_R) = \\sigma_R^*$, we have the relation\n",
    "\\begin{equation}\\tag{1.1}\n",
    "F(\\rho^*_L,\\rho^*_R) = f_L(\\rho^*_L) - f_R(\\rho^*_R) = 0\\\\\n",
    "G(\\rho^*_L,\\rho^*_R) = g_L(\\rho^*_L) - g_R(\\rho^*_R) = 0\n",
    "\\end{equation}"
   ]
  },
  {
   "cell_type": "markdown",
   "metadata": {},
   "source": [
    "\n",
    "###  Newton iteration\n",
    "We use the newton iteration method to evaluate $\\rho^*_L$ and $\\rho^*_R$.\n",
    "\\begin{equation}\n",
    "\\left[ \\begin{array}{l}\n",
    " \\rho _{R,(k+1)}^*\\\\\n",
    "\\rho_{L,(k+1)}^*\\\\\n",
    "\\end{array}\n",
    "\\right] = \n",
    "\\left[ \\begin{array}{l}\n",
    " \\rho _{R,(k)}^*\\\\\n",
    "\\rho_{L,(k)}^*\\\\\n",
    "\\end{array}\n",
    "\\right]-\n",
    "\\left[ \\begin{array}{ll}\n",
    "\\frac{\\partial F_{(k)}}{\\partial \\rho_R^*} & \\frac{\\partial F_{(k)}}{\\partial \\rho_L^*}\\\\\n",
    "\\frac{\\partial G_{(k)}}{\\partial \\rho_R^*} & \\frac{\\partial G_{(k)}}{\\partial \\rho_L^*}\\\\\n",
    "\\end{array}\n",
    "\\right]^{-1}\n",
    "\\left[ \\begin{array}{l}\n",
    "F_{(k)}\\\\\n",
    "G_{(k)}\\\\\n",
    "\\end{array}\n",
    "\\right]\n",
    "\\end{equation}\n"
   ]
  },
  {
   "cell_type": "markdown",
   "metadata": {},
   "source": [
    "from Eq.($1.1$) we can get\n",
    "\\begin{equation}\n",
    "\\left[ \\begin{array}{l}\n",
    " \\rho _{R,(k+1)}^*\\\\\n",
    "\\rho_{L,(k+1)}^*\\\\\n",
    "\\end{array}\n",
    "\\right] = \n",
    "\\left[ \\begin{array}{l}\n",
    " \\rho _{R,(k)}^*\\\\\n",
    "\\rho_{L,(k)}^*\\\\\n",
    "\\end{array}\n",
    "\\right]-\n",
    "\\left[ \\begin{array}{ll}\n",
    "-\\frac{\\partial f_{R,(k)}}{\\partial \\rho_R^*} & \\frac{\\partial f_{L,(k)}}{\\partial \\rho_L^*}\\\\\n",
    "-\\frac{\\partial g_{R,(k)}}{\\partial \\rho_R^*} & \\frac{\\partial g_{,L(k)}}{\\partial \\rho_L^*}\\\\\n",
    "\\end{array}\n",
    "\\right]^{-1}\n",
    "\\left[ \\begin{array}{l}\n",
    "F_{(k)}\\\\\n",
    "G_{(k)}\\\\\n",
    "\\end{array}\n",
    "\\right]\n",
    "\\end{equation}\n",
    "where $\\rho_{L,(k)}^*$ and $\\rho_{R,(k)}^*$ are the k-th iteration values, $F(k) = F(\\rho^*_{L,(k)},\\rho^*_{R,(k)})$,$G(k) = G(\\rho^*_{L,(k)},\\rho^*_{R,(k)})$.\n"
   ]
  },
  {
   "cell_type": "markdown",
   "metadata": {},
   "source": [
    "$$u = u - J^{-1}F$$"
   ]
  },
  {
   "cell_type": "markdown",
   "metadata": {},
   "source": [
    "\n",
    "For a rarefaction wave in the left, the derivatives are solved by\n",
    "\\begin{equation}\n",
    "\\frac{\\partial f_{L,(k)}}{\\partial \\rho^*_{L,(k)}} = \\frac{c(\\rho^*_{L,(k)})}{\\rho^*_{L,(k)}}\\\\\n",
    "\\frac{\\partial g_{L,(k)}}{\\partial \\rho^*_{L,(k)}} = c(\\rho^*_{L,(k)})^2\n",
    "\\end{equation}"
   ]
  },
  {
   "cell_type": "markdown",
   "metadata": {},
   "source": [
    "#### IInitial condition\n",
    "\n",
    "We take an intial iteration value as \n",
    "\\begin{equation}\n",
    "\\rho_{L,(0)}^* = \\rho_{R,(0)}^* = \\frac{\\rho_L +\\rho_R}{2}\n",
    "\\end{equation}"
   ]
  },
  {
   "cell_type": "code",
   "execution_count": 47,
   "metadata": {},
   "outputs": [
    {
     "data": {
      "text/plain": [
       "Derivative (generic function with 1 method)"
      ]
     },
     "execution_count": 47,
     "metadata": {},
     "output_type": "execute_result"
    }
   ],
   "source": [
    "function Derivative(f::Function,x::Float64)\n",
    "    ϵ₀ = 1e-8\n",
    "    if abs(x) >= ϵ₀\n",
    "        ϵ= ϵ₀*x\n",
    "    else\n",
    "        ϵ =ϵ₀\n",
    "    end\n",
    "    f¹(x) = (f(x+ϵ)-f(x))/ϵ\n",
    "    return f¹(x)\n",
    "end"
   ]
  },
  {
   "cell_type": "code",
   "execution_count": 48,
   "metadata": {},
   "outputs": [
    {
     "data": {
      "text/plain": [
       "NewtonIter! (generic function with 3 methods)"
      ]
     },
     "execution_count": 48,
     "metadata": {},
     "output_type": "execute_result"
    }
   ],
   "source": [
    "function NewtonIter!(U::Array{Float64,1},J::Array{Float64,2},F::Array{Float64,1}, TOL::Float64 = 1.e-6) \n",
    "    I, = size(U)\n",
    "    U_new = zeros(Float64, I)\n",
    "    while true  \n",
    "        c = max(abs(F[1]),abs(F[2]))\n",
    "        if c <= TOL\n",
    "            break\n",
    "        end\n",
    "        U_new = U - inv(J)*F # same to inv(J)×F\n",
    "   #     c= CHA(U,U_new,F)\n",
    "     #   if c <= TOL\n",
    "      #      break\n",
    "      #  end\n",
    "    end\n",
    "    return U\n",
    "    \n",
    "end   "
   ]
  },
  {
   "cell_type": "markdown",
   "metadata": {},
   "source": [
    "#### 收敛准则\n",
    "\n",
    "The iteration procedure stops with the criterion of\n",
    "$\\text{CHA}\\le \\text{TOL}$, where \n",
    "\\begin{equation}\n",
    "\\text{CHA} = \\text{max} \\left[ \n",
    "\\frac{2|(\\rho_L^*)_{(k+1)}-(\\rho_L^*)_{(k)}|}{|(\\rho_L^*)_{(k+1)}+(\\rho_L^*)_{(k)}|}, \\frac{2|(\\rho_R^*)_{(k+1)}-(\\rho_R^*)_{(k)}|}{|(\\rho_R^*)_{(k+1)}+(\\rho_R^*)_{(k)}|}, |F_{(k)}|, |G_{(k)}| \\right]\n",
    "\\end{equation}\n",
    "and TOL is a small tolerance by numerical experiments, we take as $\\text{TOL} = 10^{-6}$."
   ]
  },
  {
   "cell_type": "code",
   "execution_count": 49,
   "metadata": {},
   "outputs": [
    {
     "data": {
      "text/plain": [
       "CHA (generic function with 1 method)"
      ]
     },
     "execution_count": 49,
     "metadata": {},
     "output_type": "execute_result"
    }
   ],
   "source": [
    "function CHA(R0::Array{Float64,1}, R1::Array{Float64,1}, F::Array{Float64,1})\n",
    "    \n",
    "    ρₗ₀ = R0[1]; ρᵣ₀ = R0[2]\n",
    "    ρₗ₁ = R1[1]; ρᵣ₁ = R1[2]\n",
    "    \n",
    "    CHA = max(abs(2(ρₗ₁-ρₗ₀)/(ρₗ₁+ρₗ₀)),\n",
    "              abs(2(ρᵣ₁-ρᵣ₀)/(ρᵣ₁+ρᵣ₀)), F[1], F[2])\n",
    "    return CHA\n",
    "end   "
   ]
  },
  {
   "cell_type": "code",
   "execution_count": 50,
   "metadata": {},
   "outputs": [
    {
     "data": {
      "text/plain": [
       "gR¹ (generic function with 1 method)"
      ]
     },
     "execution_count": 50,
     "metadata": {},
     "output_type": "execute_result"
    }
   ],
   "source": [
    "    fL(ρ, varL, conL, caseL) = fu(ρ, varL, conL, caseL)\n",
    "    fR(ρ, varR, conR, caseR) = fu(ρ, varR, conR, caseR)\n",
    "    gL(ρ, varL, conL, caseL) = -fp(ρ,varL,conL,caseL) +Sxx( ρ, varL, conL)\n",
    "    gR(ρ, varR, conR, caseR) = -fp(ρ,varR,conR,caseR) +Sxx( ρ, varR, conR)\n",
    "\n",
    "    fL¹(ρ, varL, conL, caseL) = Derivative(ρ->fL(ρ, varL, conL, caseL),ρ)\n",
    "    fR¹(ρ, varR, conR, caseR) = Derivative(ρ->fR(ρ, varR, conR, caseR),ρ)\n",
    "    gL¹(ρ, varL, conL, caseL) = Derivative(ρ->gL(ρ, varL, conL, caseL),ρ)\n",
    "    gR¹(ρ, varR, conR, caseR) = Derivative(ρ->gR(ρ, varR, conR, caseR),ρ)\n",
    " "
   ]
  },
  {
   "cell_type": "markdown",
   "metadata": {},
   "source": [
    "# 6. Exact Riemann solution\n"
   ]
  },
  {
   "cell_type": "code",
   "execution_count": 51,
   "metadata": {},
   "outputs": [
    {
     "data": {
      "text/plain": [
       "Exact_Riemann (generic function with 1 method)"
      ]
     },
     "execution_count": 51,
     "metadata": {},
     "output_type": "execute_result"
    }
   ],
   "source": [
    "function Exact_Riemann(UL::Array{Float64,1}, UR::Array{Float64,1}, conL::Const, conR::Const )\n",
    "        \n",
    "    \n",
    "    var₀L = Var(UL[1],UL[2],UL[3],UL[4])\n",
    "    var₀R = Var(UR[1],UR[2],UR[3],UR[4])\n",
    "\n",
    "    TOL = 2.e-4\n",
    "    i = 1\n",
    "    U = zeros(Float64, 2)\n",
    "    \n",
    "    ρL, uL, pL, sxxL = UL[1:4]\n",
    "    ρR, uR, pR, sxxR = UR[1:4]\n",
    "    ρLStar = ρL\n",
    "    ρRStar = ρR\n",
    "    varL = var₀L\n",
    "    varR = var₀R\n",
    "    caseL = Shock(1)\n",
    "    caseR = Shock(3)\n",
    "    \n",
    "    while true\n",
    "        \n",
    "        caseL.cs == 1 ? varL = var₀L : varL = Ṽar(var₀L,caseL,conL)\n",
    "        caseR.cs == 3 ? varR = var₀R : varR = Ṽar(var₀R,caseR,conR)\n",
    "        \n",
    "        J = [[-fR¹(ρRStar,varR, conR, caseR) fL¹(ρLStar,varL, conL, caseL)]; \n",
    "             [-gR¹(ρRStar,varR, conR, caseR) gL¹(ρLStar,varL, conL, caseL)]]\n",
    "    \n",
    "        U = [ρRStar, ρLStar]\n",
    "    \n",
    "        F = [fL(ρLStar,varL, conL, caseL)- fR(ρRStar,varR, conR, caseR), \n",
    "             gL(ρLStar,varL, conL, caseL)- gR(ρRStar,varR, conR, caseR)]\n",
    "            \n",
    "     c = max(abs(F[1]),abs(F[2])) \n",
    "    \n",
    "      if c <= TOL\n",
    "            break\n",
    "        end\n",
    "    #   @show F\n",
    "        U = U - J\\F\n",
    "        ρRStar = U[1]\n",
    "        ρLStar = U[2]\n",
    "        \n",
    "        caseL = CaseSelect(sxxL,ρL,ρLStar,conL,1)\n",
    "        caseR = CaseSelect(sxxR,ρR,ρRStar,conR,2)\n",
    "  #  @show caseL,caseR\n",
    "   end\n",
    "   \n",
    "    sxxLStar = Sxx(ρLStar, varL, conL)\n",
    "    sxxRStar = Sxx(ρRStar, varR, conR)\n",
    "    \n",
    "    ### 重新求解\n",
    "    \n",
    "    pLStar = fp(ρLStar, varL, conL,caseL)\n",
    "    s_Star = fu(ρLStar, varL, conL,caseL)\n",
    "    pRStar = fp(ρRStar, varR, conR,caseR)    \n",
    "    ŨL = [varL.ρ, varL.u, varL.p, varL.sxx]\n",
    "    ŨR = [varR.ρ, varR.u, varR.p, varR.sxx]\n",
    "    ULStar = [ρLStar, s_Star, pLStar,sxxLStar]\n",
    "    URStar = [ρRStar, s_Star, pRStar,sxxRStar]\n",
    "          \n",
    "    return  ŨL, ULStar,URStar, ŨR, caseL,caseR  \n",
    "   #   return   ULStar,URStar \n",
    "end"
   ]
  },
  {
   "cell_type": "code",
   "execution_count": 52,
   "metadata": {},
   "outputs": [
    {
     "data": {
      "text/plain": [
       "([2785.0, 10.0, 1.0, -2.0e8], [2787.61, 5.0, 7.44727e7, -2.0e8], [2787.61, 5.0, 7.44727e7, -2.0e8], [2785.0, 0.0, 1.0, -2.0e8], Shock(1), Shock(3))"
      ]
     },
     "execution_count": 52,
     "metadata": {},
     "output_type": "execute_result"
    }
   ],
   "source": [
    "UL=  [2785,10.0,1.0,-2.0e8]\n",
    "UR = [2785,0.0,1.0,-2.0e8]\n",
    "\n",
    "conL = Const(3e8,2785,2.0,2.76e10,5328.0,1.338)\n",
    "conR = Const(3e8,2785,2.0,2.76e10,5328.0,1.338)\n",
    "\n",
    " Exact_Riemann(UL,UR,conL,conR)\n",
    "#@btime Exact_Riemann(UL,UR,conL,conR)\n",
    " Exact_Riemann(UL,UR,conL,conR)# 0.000141 seconds (572 allocations: 19.797 KiB)"
   ]
  },
  {
   "cell_type": "code",
   "execution_count": 53,
   "metadata": {},
   "outputs": [
    {
     "data": {
      "text/plain": [
       "HLLCEPTest (generic function with 2 methods)"
      ]
     },
     "execution_count": 53,
     "metadata": {},
     "output_type": "execute_result"
    }
   ],
   "source": [
    "function HLLCEPTest(uL::Array{Float64,1},uR::Array{Float64,1},problem::Global=problem)\n",
    "\n",
    "    nv = problem.nv\n",
    "    jx = problem.nv\n",
    "   \n",
    "  #  I,J = size(uL)\n",
    "    fL  = zeros(Float64,(4))\n",
    "    fR  = zeros(Float64,(4))\n",
    "  #  uuh = zeros(Float64,I)\n",
    " #   ue = zeros(Float64,J)\n",
    "    \n",
    "  #  for  i in 1:I-1\n",
    "        \n",
    "        ρL =  uL[1]\n",
    "        uuL = uL[2]\n",
    "        pL  = uL[3]\n",
    "        sxxL= uL[4]\n",
    "        \n",
    "        \n",
    "        varL = Var(ρL,uuL,pL,sxxL)\n",
    "        σL  = -pL+sxxL\n",
    "        cL = sound(uL[:],conL)\n",
    "       \n",
    "        \n",
    "        ρR =  uR[1]\n",
    "        uuR = uR[2]\n",
    "        pR  = uR[3]\n",
    "        sxxR= uR[4]\n",
    "        \n",
    "        varR = Var(ρR,uuR,pR,sxxR)        \n",
    "        σR  = -pR+sxxR \n",
    "        cR = sound(uR[:],conR)\n",
    "        \n",
    "        sL = min(uuL-cL, uuR-cR)\n",
    "        sR = max(uuL+cL, uuR+cR)\n",
    "        \n",
    "        s_star = (σL - σR + ρL*uuL*(sL-uuL) - ρR* uuR*(sR-uuR))/(ρL*(sL-uuL)-ρR*(sR-uuR))\n",
    "        \n",
    "        ρLstar = ρL*(uuL-sL)/(s_star - sL)\n",
    "        ρRstar = ρR*(uuR-sR)/(s_star - sR)\n",
    "        \n",
    "        \n",
    "        ρL,uuL,pL,sxxL,σL,cL = Plastic(conL,varL,ρLstar,1)\n",
    "        \n",
    "        ρR,uuR,pR,sxxR,σR,cR = Plastic(conR,varR,ρRstar,2)      \n",
    "        \n",
    "        sL = min(uuL-cL,uuR-cR)\n",
    "        sR = max(uuL+cL,uuR+cR)\n",
    "        \n",
    "        s_star = (σL - σR + ρL*uuL*(sL-uuL) - ρR* uuR*(sR-uuR))/(ρL*(sL-uuL)-ρR*(sR-uuR))\n",
    "        \n",
    "        ρLstar = ρL*(uuL-sL)/(s_star - sL)\n",
    "        ρRstar = ρR*(uuR-sR)/(s_star - sR)\n",
    "        \n",
    "        μL = conL.μ\n",
    "        tmp = -4μL/3*log(ρLstar/ρL) +sxxL\n",
    "        \n",
    "        sxxLstar = Yυ(tmp,conL)\n",
    "        \n",
    "        μR = conR.μ\n",
    "        tmp = -4μR/3*log(ρRstar/ρR) +sxxR\n",
    "        \n",
    "        sxxRstar = Yυ(tmp,conR)\n",
    "        \n",
    "        σstar = σL-ρL*(sL-uuL)*(s_star-uuL)\n",
    "        pLstar = sxxLstar-σstar\n",
    "        pRstar = sxxRstar-σstar\n",
    "        \n",
    "   #     if s_star > u[i] \n",
    "            fL[1] = 0\n",
    "            fL[2] = pLstar-sxxLstar\n",
    "            fL[3] = (pLstar-sxxLstar)*s_star\n",
    "            fL[4] = -4μL/3*s_star\n",
    "          #  uuh[i] = s_star\n",
    "#        else\n",
    "            fR[1] = 0\n",
    "            fR[2] = pRstar-sxxRstar\n",
    "            fR[3] = (pRstar-sxxRstar)*s_star\n",
    "            fR[4] = -4μR/3*s_star\n",
    "         #   uuh[i] = s_star\n",
    "  #      end\n",
    "\n",
    "    return fL,fR\n",
    "end"
   ]
  },
  {
   "cell_type": "code",
   "execution_count": 54,
   "metadata": {},
   "outputs": [
    {
     "ename": "UndefVarError",
     "evalue": "UndefVarError: CompareHalf2 not defined",
     "output_type": "error",
     "traceback": [
      "UndefVarError: CompareHalf2 not defined",
      "",
      "Stacktrace:",
      " [1] top-level scope at In[54]:1"
     ]
    }
   ],
   "source": [
    "uo,u1,x1,inter = CompareHalf2(0.5e-4,UL,UR,conL,conR)\n",
    "@time HLLCEPTest(UL,UR)"
   ]
  },
  {
   "cell_type": "markdown",
   "metadata": {},
   "source": [
    "## Half Riemann Problem  with a given left velocity $uR^*$.\n",
    "\n",
    "Detemine the shock wave or rarefaction wave in the right side.\n",
    "\n",
    "If $ uL - uR > 0$ the wave is a compressional wave so it may be one or two shock waves in the right side.\n",
    "\n",
    "Let $F = f(\\rho^*_R) - uR^* = 0 $\n",
    "\n",
    "$$ \\rho^*_{R,k+1} = \\rho^*_{R,k} - F/F'$$ \n"
   ]
  },
  {
   "cell_type": "code",
   "execution_count": 55,
   "metadata": {},
   "outputs": [
    {
     "data": {
      "text/plain": [
       "HalfRiemann (generic function with 1 method)"
      ]
     },
     "execution_count": 55,
     "metadata": {},
     "output_type": "execute_result"
    }
   ],
   "source": [
    "function HalfRiemann(para::Float64, U::Array{Float64,1}, con::Const, uorσ::Int)\n",
    "   \n",
    "    if uorσ == 1\n",
    "        uStar = para\n",
    "    else \n",
    "        σStar = para\n",
    "    end\n",
    "    case = Shock(3)\n",
    "    \n",
    "    ρ,u,p,sxx = U[1],U[2],U[3],U[4]\n",
    "    var = Var(ρ,u,p,sxx)\n",
    "    ρStar = ρ\n",
    "    var1=var\n",
    "    TOL = 1.e-4\n",
    "    \n",
    "    \n",
    "    if uorσ==1\n",
    "        while true\n",
    "             if case.cs == 3 \n",
    "                var1=var\n",
    "            else\n",
    "                var1= Ṽar(var, case,con)\n",
    "            end\n",
    "            \n",
    "            F = fR(ρStar,var1, con, case) - para\n",
    "            if abs(F) < TOL\n",
    "                break\n",
    "            end\n",
    "            ρStar = ρStar - F/fR¹(ρStar,var1, con, case)\n",
    "            case = CaseSelect(sxx, ρ,ρStar, con, 2)\n",
    "            \n",
    "              @show case\n",
    "        end\n",
    "    else \n",
    "        \n",
    "        while true\n",
    "             if case.cs == 3 \n",
    "                var1=var\n",
    "            else\n",
    "                var1= Ṽar(var, case,con)\n",
    "            end\n",
    "            F = gR(ρStar,var, con, case) - para\n",
    "            if abs(F) < TOL\n",
    "                break\n",
    "            end\n",
    "\n",
    "            ρStar = ρStar - F/gR¹(ρStar,var, con, case)\n",
    "            case = CaseSelect(sxx, ρ,ρStar, con, 2)\n",
    "            @show ρStar,case\n",
    "        end\n",
    "    end\n",
    "    \n",
    "##presolve \n",
    "\n",
    "    pStar = fp(ρStar, var1, con,case)\n",
    "    uStar = fu(ρStar,var1,con,case)\n",
    "    sxxStar=Sxx(ρStar, var1, con)\n",
    "    UStar = [ρStar, uStar, pStar, sxxStar]\n",
    "    \n",
    "    Ũ = [var1.ρ, var1.u, var1.p, var1.sxx]\n",
    "    \n",
    "    return UStar, Ũ, case\n",
    "end\n",
    "   "
   ]
  },
  {
   "cell_type": "code",
   "execution_count": 56,
   "metadata": {},
   "outputs": [
    {
     "data": {
      "text/plain": [
       "NewtonIter! (generic function with 3 methods)"
      ]
     },
     "execution_count": 56,
     "metadata": {},
     "output_type": "execute_result"
    }
   ],
   "source": [
    "function NewtonIter!(ρStar::Float64,para::Float64, var::Var, con::Const,case,uorσ::Int)\n",
    "   \n",
    "    TOL = 1.e-4\n",
    "    if uorσ==1\n",
    "    while true\n",
    "        F = fR(ρStar,var, con, case) - para\n",
    "        if abs(F) < TOL\n",
    "            break\n",
    "        end\n",
    "        \n",
    "        ρStar = ρStar - F/fR¹(ρStar,var, con, case)\n",
    "  #      @show ρStar\n",
    "    end\n",
    "    else \n",
    "    while true\n",
    "        F = gR(ρStar,var, con, case) - para\n",
    "        if abs(F) < TOL\n",
    "            break\n",
    "        end\n",
    "        \n",
    "        ρStar = ρStar - F/gR¹(ρStar,var, con, case)\n",
    "  #      @show ρStar\n",
    "    end\n",
    "    end\n",
    "    \n",
    "        \n",
    "    return ρStar\n",
    "end"
   ]
  },
  {
   "cell_type": "markdown",
   "metadata": {},
   "source": [
    "# 6. To get a  discrete result at time $t$ with 600 points"
   ]
  },
  {
   "cell_type": "code",
   "execution_count": 57,
   "metadata": {},
   "outputs": [
    {
     "data": {
      "text/plain": [
       "Solve (generic function with 2 methods)"
      ]
     },
     "execution_count": 57,
     "metadata": {},
     "output_type": "execute_result"
    }
   ],
   "source": [
    "function Solve(t::Float64,UL::Array{Float64,1},UR::Array{Float64,1},conL::Const,conR::Const)  \n",
    "\n",
    "\n",
    "ŨL,  ULStar,URStar,ŨR, caseL,caseR = Exact_Riemann(UL,UR, conL, conR )\n",
    "\n",
    "ρL, uL, pL, sxxL = UL\n",
    "ρR, uR, pR, sxxR = UR\n",
    "\n",
    "ULVar = Var(ρL, uL, pL, sxxL)\n",
    "URVar=Var(ρR, uR, pR, sxxR)\n",
    "    \n",
    "ρLStar, uLStar, pLStar, sxxLStar = ULStar\n",
    "ρRStar, uRStar, pRStar, sxxRStar = URStar\n",
    "\n",
    "ULStarVar = Var(ρLStar, uLStar, pLStar, sxxLStar)\n",
    "URStarVar = Var(ρRStar, uRStar, pRStar, sxxRStar) \n",
    "    \n",
    "ρ̃L,ũL, p̃L, s̃xxL = ŨL\n",
    "ρ̃R,ũR, p̃R, s̃xxR = ŨR\n",
    "    \n",
    "ŨLVar = Var(ρ̃L,ũL, p̃L, s̃xxL)\n",
    "ŨRVar = Var(ρ̃R,ũR, p̃R, s̃xxR)\n",
    "\n",
    "I=600\n",
    "U = zeros(Float64, (I,4))\n",
    "U1 = zeros(Float64, (100,4))\n",
    "x1 = zeros(Float64,100)\n",
    "x  = zeros(Float64,I)\n",
    "    i =1\n",
    "#for x0 in x        \n",
    "#if ũL*t ≥ x0   -\\infty -> u\\tildeL*t\n",
    "\n",
    "    \n",
    "    if caseL == Shock(1) \n",
    "        sL = (ρLStar*uLStar - ρL*uL)/(ρLStar-ρL)\n",
    "      #  if sL *t ≥ x0\n",
    "            for i =1:100\n",
    "            x[i] =(2-0.01*(i-1))*sL*t\n",
    "            U[i,:] = UL\n",
    "        end\n",
    "        for i = 101:300\n",
    "            x[i] = ((uLStar-sL)/200*(i-100) + sL)*t\n",
    "            U[i,:] = ULStar\n",
    "        end\n",
    "        \n",
    "        \n",
    "    elseif caseL == Shock(2)\n",
    "        sL = (ρLStar*uLStar - ρ̃L*ũL)/(ρLStar-ρ̃L)\n",
    "        s̃L = (ρL*uL-ρ̃L*ũL)/(ρL-ρ̃L)\n",
    "        \n",
    "        for i =1:100\n",
    "            x[i] =(2-0.01*(i-1))*s̃L*t\n",
    "            U[i,:] = UL\n",
    "        end\n",
    "        \n",
    "        for i = 101:200\n",
    "            x[i] = ((-s̃L+sL)/100*(i-100) + s̃L)*t\n",
    "            U[i,:] =  ŨL\n",
    "        end\n",
    "        for i = 201:300\n",
    "           x[i] = ((uLStar-sL)/100*(i-200) + sL)*t\n",
    "         U[i,:] = ULStar\n",
    "        end\n",
    "       \n",
    "        \n",
    "    elseif caseL == Rare(1)\n",
    "        \n",
    "        cL =sound(UL, conL)\n",
    "        \n",
    "        cLStar = sound(ULStar,conL)\n",
    "        sLSlow = uL-cL\n",
    "        sLFast = uLStar - cLStar\n",
    "   \n",
    "        for i =1:100\n",
    "            x[i] =(2-0.01*(i-1))*sLSlow*t\n",
    "            U[i,:] = UL\n",
    "        end\n",
    "        \n",
    "\n",
    "        \n",
    "        x[101:200],U[101:200,:] = RareSpeedToU(t,ULVar,ULStarVar,conL,1,Rare(1))\n",
    "        \n",
    "        for i =201:300\n",
    "            x[i] = ((uLStar - sLFast)/100*(i-200) + sLFast)*t \n",
    "            U[i,:] = ULStar\n",
    "        end \n",
    "        \n",
    "        \n",
    "    elseif caseL == Rare(2)\n",
    "        \n",
    "        cL =sound(UL, conL,1)    \n",
    "        cLStar = sound(ULStar,conL,2)\n",
    "        c̃L = sound(ŨL,conL,1)\n",
    "            \n",
    "        sLSlow = uL-cL\n",
    "        sLMid  = ũL-c̃L \n",
    "        sLFast = uLStar - cLStar\n",
    "       @show sLSlow, sLMid, sLFast \n",
    "        for i =1:100\n",
    "            x[i] =(2-0.01*(i-1))*sLSlow*t\n",
    "            U[i,:] = UL\n",
    "        end\n",
    "        \n",
    "        x1,U1= RareSpeedToU(t, ULVar,ŨLVar,conL,1,Rare(1))\n",
    "        for i= 1:50\n",
    "            x[100+i] = x1[2i]\n",
    "            U[100+i,:] = U1[2i,:]\n",
    "        end\n",
    "        \n",
    "        x1,U1= RareSpeedToU(t, ŨLVar,ULStarVar,conL,2,Rare(1))\n",
    "        for i= 1:50\n",
    "            x[150+i] = x1[2i]\n",
    "            U[150+i,:] = U1[2i,:]\n",
    "        end\n",
    "        \n",
    "         for i =201:300\n",
    "            x[i] = ((uLStar - sLFast)/100*(i-200) + sLFast)*t \n",
    "            U[i,:] = ULStar\n",
    "        end \n",
    "        \n",
    "    end\n",
    "    \n",
    "    \n",
    "    \n",
    "        \n",
    "    if caseR == Shock(3) \n",
    "        sR = (ρRStar*uRStar - ρR*uR)/(ρRStar-ρR)\n",
    "      #  if sL *t ≥ x0\n",
    "      \n",
    "        for i = 301:500\n",
    "            x[i] = ((-uRStar+sR)/200*(i-300) + uRStar)*t\n",
    "            U[i,:] = URStar\n",
    "        end\n",
    "        for i =501:600\n",
    "            x[i] =(1+0.01*(i-501))*sR*t\n",
    "            U[i,:] = UR\n",
    "        end\n",
    "        \n",
    "    elseif caseR == Shock(4)\n",
    "        \n",
    "        s̃R = (ρRStar*uRStar - ρ̃R*ũR)/(ρRStar-ρ̃R)\n",
    "        \n",
    "        sR = (ρR*uR-ρ̃R*ũR)/(ρR-ρ̃R)\n",
    "        \n",
    "        for i =501:600\n",
    "            x[i] =(1+0.01*(i-501))*sR*t\n",
    "            U[i,:] = UR\n",
    "        end\n",
    "        \n",
    "        for i = 401:500\n",
    "            x[i] = ((-s̃R+sR)/100*(i-400) + s̃R)*t\n",
    "            U[i,:] =  ŨR\n",
    "        end\n",
    "        for i = 301:400\n",
    "           x[i] = ((-uRStar+s̃R)/100*(i-300) + uRStar)*t\n",
    "         U[i,:] = URStar\n",
    "        end\n",
    "       @show sR ,s̃R\n",
    "        \n",
    "    elseif caseR == Rare(3)\n",
    "        \n",
    "        cR =sound(UR, conR)\n",
    "        \n",
    "        cRStar = sound(URStar,conR)\n",
    "        sRFast = uR + cR\n",
    "        sRSlow = uRStar + cRStar\n",
    "   \n",
    "        for i =501:600\n",
    "            x[i] =(1+0.01*(i-501))*sRFast*t\n",
    "            U[i,:] = UR\n",
    "        end\n",
    "        \n",
    "        \n",
    "        x[401:500],U[401:500,:] = RareSpeedToU(t,URStarVar,URVar,conR,1,Rare(3))\n",
    "        \n",
    "        for i =301:400\n",
    "            x[i] = ((-uRStar + sRSlow)/100*(i-300) + uRStar)*t \n",
    "            U[i,:] = URStar\n",
    "        end \n",
    "        \n",
    "        \n",
    "    elseif caseR == Rare(4)\n",
    "        \n",
    "        cR =sound(UR, conR,1)    \n",
    "        cRStar = sound(URStar,conR,2)\n",
    "        c̃R = sound(ŨR,conR,2)\n",
    "            \n",
    "        sRFast = uR+cR\n",
    "        sRMid  = ũR+c̃R \n",
    "        sRSlow = uRStar + cRStar\n",
    "        \n",
    "        for i =501:600\n",
    "            x[i] =(1+0.01*(i-501))*sRFast*t\n",
    "            U[i,:] = UR\n",
    "        end\n",
    "        for i =301:400\n",
    "            x[i] = ((-uRStar + sRSlow)/100*(i-300) + uRStar)*t \n",
    "            U[i,:] = URStar\n",
    "        end \n",
    "        \n",
    "        x1,U1= RareSpeedToU(t, URStarVar,ŨRVar,conR,2,Rare(4))\n",
    "        for i= 1:50\n",
    "            x[400+i] = x1[2i]\n",
    "            U[400+i,:] = U1[2i,:]\n",
    "        end \n",
    "        \n",
    "        x1,U1= RareSpeedToU(t,ŨRVar, URVar,conR,1,Rare(4))\n",
    "        for i= 1:50\n",
    "            x[450+i] = x1[2i]\n",
    "            U[450+i,:] = U1[2i,:]\n",
    "        end\n",
    "        \n",
    "        \n",
    "        \n",
    "        \n",
    "        \n",
    "    end\n",
    " \n",
    "\n",
    "    \n",
    "return x,U\n",
    "end       \n",
    "  "
   ]
  },
  {
   "cell_type": "code",
   "execution_count": 58,
   "metadata": {},
   "outputs": [
    {
     "data": {
      "text/plain": [
       "Solve (generic function with 2 methods)"
      ]
     },
     "execution_count": 58,
     "metadata": {},
     "output_type": "execute_result"
    }
   ],
   "source": [
    "function Solve(t::Float64,para::Float64,UR::Array{Float64,1},conR::Const,uorσ::Int)\n",
    "   \n",
    "    URStar, ŨR, caseR = HalfRiemann(para,UR, conR,uorσ)\n",
    "\n",
    "ρR, uR, pR, sxxR = UR\n",
    "URVar=Var(ρR, uR, pR, sxxR)\n",
    "    \n",
    "ρRStar, uRStar, pRStar, sxxRStar = URStar\n",
    "URStarVar = Var(ρRStar, uRStar, pRStar, sxxRStar) \n",
    "    \n",
    "ρ̃R,ũR, p̃R, s̃xxR = ŨR\n",
    "ŨRVar = Var(ρ̃R,ũR, p̃R, s̃xxR)\n",
    " \n",
    "I=300\n",
    "U = zeros(Float64, (I,4))\n",
    "U1 = zeros(Float64, (100,4))\n",
    "x1 = zeros(Float64,100)\n",
    "x  = zeros(Float64,I)\n",
    "    i =1\n",
    "    \n",
    "\n",
    "    \n",
    "if caseR == Shock(3) \n",
    "        sR = (ρRStar*uRStar - ρR*uR)/(ρRStar-ρR)\n",
    "      #  if sL *t ≥ x0\n",
    "    \n",
    "        for i = 1:200\n",
    "            x[i] = ((-uRStar+sR)/200*(i) + uRStar)*t\n",
    "            U[i,:] = URStar\n",
    "        end\n",
    "        for i =201:300\n",
    "            x[i] =(1+0.01*(i-201))*sR*t\n",
    "            U[i,:] = UR\n",
    "        end\n",
    "        \n",
    "    elseif caseR == Shock(4)\n",
    "        \n",
    "        s̃R = (ρRStar*uRStar - ρ̃R*ũR)/(ρRStar-ρ̃R)\n",
    "        \n",
    "        sR = (ρR*uR-ρ̃R*ũR)/(ρR-ρ̃R)\n",
    "        \n",
    "        for i =201:300\n",
    "            x[i] =(1+0.01*(i-201))*sR*t\n",
    "            U[i,:] = UR\n",
    "        end\n",
    "        \n",
    "        for i = 101:200\n",
    "            x[i] = ((-s̃R+sR)/100*(i-100) + s̃R)*t\n",
    "            U[i,:] =  ŨR\n",
    "        end\n",
    "        for i = 1:100\n",
    "           x[i] = ((-uRStar+s̃R)/100*(i) + uRStar)*t\n",
    "         U[i,:] = URStar\n",
    "        end\n",
    "       @show sR ,s̃R\n",
    "        \n",
    "    elseif caseR == Rare(3)\n",
    "        \n",
    "        cR =sound(UR, conR)\n",
    "        \n",
    "        cRStar = sound(URStar,conR)\n",
    "        sRFast = uR + cR\n",
    "        sRSlow = uRStar + cRStar\n",
    "   \n",
    "        for i =201:300\n",
    "            x[i] =(1+0.01*(i-201))*sRFast*t\n",
    "            U[i,:] = UR\n",
    "        end\n",
    "        \n",
    "        \n",
    "        x[101:200],U[101:200,:] = RareSpeedToU(t,URStarVar,URVar,conR,1,Rare(3))\n",
    "        \n",
    "        for i =1:100\n",
    "            x[i] = ((-uRStar + sRSlow)/100*(i) + uRStar)*t \n",
    "            U[i,:] = URStar\n",
    "        end \n",
    "        \n",
    "        \n",
    "    elseif caseR == Rare(4)\n",
    "        \n",
    "        cR =sound(UR, conR,1)    \n",
    "        cRStar = sound(URStar,conR,2)\n",
    "        c̃R = sound(ŨR,conR,2)\n",
    "            \n",
    "        sRFast = uR+cR\n",
    "        sRMid  = ũR+c̃R \n",
    "        sRSlow = uRStar + cRStar\n",
    "        \n",
    "        for i =201:300\n",
    "            x[i] =(1+0.01*(i-201))*sRFast*t\n",
    "            U[i,:] = UR\n",
    "        end\n",
    "        for i =1:100\n",
    "            x[i] = ((-uRStar + sRSlow)/100*i + uRStar)*t \n",
    "            U[i,:] = URStar\n",
    "        end \n",
    "        \n",
    "        x1,U1= RareSpeedToU(t, URStarVar,ŨRVar,conR,2,Rare(4))\n",
    "        for i= 1:50\n",
    "            x[100+i] = x1[2i]\n",
    "            U[100+i,:] = U1[2i,:]\n",
    "        end \n",
    "        \n",
    "        x1,U1= RareSpeedToU(t,ŨRVar, URVar,conR,1,Rare(4))\n",
    "        for i= 1:50\n",
    "            x[150+i] = x1[2i]\n",
    "            U[150+i,:] = U1[2i,:]\n",
    "        end\n",
    "     end\n",
    " \n",
    "\n",
    "    \n",
    "return x,U\n",
    "end     \n",
    "    "
   ]
  },
  {
   "cell_type": "markdown",
   "metadata": {},
   "source": [
    "### Solve $U$ by $x$ and $t$\n",
    "\n",
    "As we know in the left side \n",
    "$$u_L(\\rho) =- \\int_{\\rho_L}^{\\rho}\\frac{c}{\\rho}d\\rho + u_L$$ \n",
    "where $ \\rho_L \\ge \\rho \\ge \\rho_L^*$ "
   ]
  },
  {
   "cell_type": "code",
   "execution_count": 59,
   "metadata": {},
   "outputs": [
    {
     "data": {
      "text/plain": [
       "RareSpeedToU (generic function with 1 method)"
      ]
     },
     "execution_count": 59,
     "metadata": {},
     "output_type": "execute_result"
    }
   ],
   "source": [
    "function RareSpeedToU(t::Float64, U0::Var, UStar::Var,con ::Const,EoP::Int, case::Rare)\n",
    "    \n",
    "    ρ1,u1,p1,sxx1 = U0.ρ, U0.u,U0.p,U0.sxx\n",
    "    ρ2,u2,p2,sxx2 = UStar.ρ, UStar.u,UStar.p,UStar.sxx\n",
    "\n",
    "    U = zeros(Float64, (100,4))\n",
    "    x = zeros(Float64,100)\n",
    "  \n",
    "    EoP = 1\n",
    "    if abs(sxx1)≥ 2/3*con.Y0 && abs(sxx2)≥ 2/3*con.Y0\n",
    "        EoP = 2\n",
    "        else \n",
    "        EoP =1\n",
    "    end\n",
    "    Δρ = (ρ2 -ρ1)/100\n",
    "    \n",
    "    for i in 1:100\n",
    "\n",
    "        ρ = ρ1+Δρ*(i-1)\n",
    "       \n",
    "                p = fp(ρ, U0, con, case) \n",
    "                u = fu(ρ, U0, con, case)\n",
    "               if EoP == 1   #elastic\n",
    "                    sxx = Sxx(ρ, U0, con)\n",
    "                elseif EoP == 2 # plastic\n",
    "                    sxx = 2/3*con.Y0\n",
    "                end\n",
    "\n",
    "        U[i,1:4] = [ρ, u, p, sxx]\n",
    "        c = sound(U[i,:], con,EoP)\n",
    "        if case.cs == 1 || case.cs == 2\n",
    "        uc = u-c \n",
    "        else\n",
    "        uc = u+c\n",
    "        end\n",
    "        x[i] = uc*t\n",
    " #       println(ρ,\"   \",uc₀)\n",
    "    end\n",
    "    return x, U\n",
    "end"
   ]
  },
  {
   "cell_type": "code",
   "execution_count": 60,
   "metadata": {},
   "outputs": [
    {
     "name": "stdout",
     "output_type": "stream",
     "text": [
      "(ρStar, case) = (8885.489264180957, Rare(4))\n",
      "(ρStar, case) = (8869.518526302794, Rare(4))\n",
      "(ρStar, case) = (8869.460773188566, Rare(4))\n",
      "(ρStar, case) = (8869.46077243288, Rare(4))\n"
     ]
    },
    {
     "ename": "UndefVarError",
     "evalue": "UndefVarError: CompareHalf2 not defined",
     "output_type": "error",
     "traceback": [
      "UndefVarError: CompareHalf2 not defined",
      "",
      "Stacktrace:",
      " [1] top-level scope at In[60]:6"
     ]
    }
   ],
   "source": [
    "UR=[8930.0,0.0,1e9,0]\n",
    "conR = Const(9e7,8930,2.0,4.5e10,3940.0,1.49)\n",
    "conL=conR\n",
    "UL= [8930.0,20.0,1e9,1e9]\n",
    "x,U = Solve(0.5e-4,0.0, UR, conR,2)\n",
    "uo,u1,x1,inter = CompareHalf2(0.5e-4,UL,UR,conL,conR)\n",
    "uo1,x1 = TimeSolve(uo,x1,inter)"
   ]
  },
  {
   "cell_type": "code",
   "execution_count": 61,
   "metadata": {},
   "outputs": [
    {
     "ename": "UndefVarError",
     "evalue": "UndefVarError: x1 not defined",
     "output_type": "error",
     "traceback": [
      "UndefVarError: x1 not defined",
      "",
      "Stacktrace:",
      " [1] top-level scope at In[61]:1"
     ]
    }
   ],
   "source": [
    "p1 = plot(x1.+0.5,uo1[:,2],grid=nothing,marker =(3,0.6,Plots.stroke(:blue)),color = \"red\",width=1,line=nothing,label = \"Numerical\")\n",
    " plot!(x.+0.5  ,U[:,2],xlabel= \"x\",ylab=L\"\\rho \\  (kg/m^3)\", width=2,label=\"Exact\",color=\"black\",xlims!=[0.0:1.0])\n",
    "xlims!(0.5,1.0)\n",
    "savefig(p1, \"case11rho.pdf\")"
   ]
  },
  {
   "cell_type": "code",
   "execution_count": 62,
   "metadata": {},
   "outputs": [
    {
     "ename": "UndefVarError",
     "evalue": "UndefVarError: x1 not defined",
     "output_type": "error",
     "traceback": [
      "UndefVarError: x1 not defined",
      "",
      "Stacktrace:",
      " [1] top-level scope at In[62]:1"
     ]
    }
   ],
   "source": [
    "p1 = plot(x1.+0.5,uo1[:,2],grid=nothing,marker =(3,0.6,Plots.stroke(:blue)),color = \"red\",width=1,line=nothing,label = \"Numerical\",xlims!=[0.0:1.0])\n",
    " plot!(x .+0.5 ,U[:,2],xlabel= \"x\",ylab=L\"u \\  (m/s)\", width=2,label=\"Exact\",color=\"black\")\n",
    "xlims!(0.5,1.0)\n",
    "savefig(p1, \"case11u.pdf\")"
   ]
  },
  {
   "cell_type": "code",
   "execution_count": 63,
   "metadata": {},
   "outputs": [
    {
     "ename": "UndefVarError",
     "evalue": "UndefVarError: x1 not defined",
     "output_type": "error",
     "traceback": [
      "UndefVarError: x1 not defined",
      "",
      "Stacktrace:",
      " [1] top-level scope at In[63]:1"
     ]
    }
   ],
   "source": [
    "p1 = plot(x1 .+0.5,uo1[:,3],grid=nothing,marker =(3,0.6,Plots.stroke(:blue)),color = \"red\",width=1,line=nothing,label = \"Numerical\",xlims!=[0.0:1.0])\n",
    " plot!(x .+0.5 ,U[:,3],xlabel= \"x\",ylab=L\"p \\ (Pa)\", width=2,label=\"Exact\",color=\"black\")\n",
    "xlims!(0.5,1)\n",
    "savefig(p1, \"case11p.pdf\")"
   ]
  },
  {
   "cell_type": "code",
   "execution_count": 64,
   "metadata": {},
   "outputs": [
    {
     "ename": "UndefVarError",
     "evalue": "UndefVarError: x1 not defined",
     "output_type": "error",
     "traceback": [
      "UndefVarError: x1 not defined",
      "",
      "Stacktrace:",
      " [1] top-level scope at In[64]:1"
     ]
    }
   ],
   "source": [
    "p1 = plot(x1 .+0.5,-uo1[:,3]+uo1[:,4],grid=nothing,marker =(3,0.6,Plots.stroke(:blue)),color = \"red\",width=1,line=nothing,label = \"Numerical\",xlims!=[0.0:1.0])\n",
    " plot!(x .+0.5 ,-U[:,3]+U[:,4],xlabel= \"x\",ylab=L\"\\sigma \\  (Pa)\", width=2,label=\"Exact\",color=\"black\")\n",
    "xlims!(0.5,1)\n",
    "savefig(p1, \"case11sigma.pdf\")"
   ]
  },
  {
   "cell_type": "markdown",
   "metadata": {},
   "source": [
    "# Examples 算例"
   ]
  },
  {
   "cell_type": "code",
   "execution_count": 65,
   "metadata": {},
   "outputs": [
    {
     "data": {
      "text/plain": [
       "TwoMatter2 (generic function with 1 method)"
      ]
     },
     "execution_count": 65,
     "metadata": {},
     "output_type": "execute_result"
    }
   ],
   "source": [
    "using Plots\n",
    "using Plots.PlotMeasures\n",
    "using LaTeXStrings\n",
    "using BenchmarkTools\n",
    "pyplot()\n",
    "include(\"../Lagrangian_1d-2materials.jl\") #numerical code\n",
    "\n",
    "#Pkg.instantiate()"
   ]
  },
  {
   "cell_type": "markdown",
   "metadata": {},
   "source": [
    "### Function of  numerical method "
   ]
  },
  {
   "cell_type": "code",
   "execution_count": 66,
   "metadata": {},
   "outputs": [
    {
     "data": {
      "text/plain": [
       "Compare (generic function with 1 method)"
      ]
     },
     "execution_count": 66,
     "metadata": {},
     "output_type": "execute_result"
    }
   ],
   "source": [
    "function Compare(tt::Float64,UL::Array{Float64,1},UR::Array{Float64,1},conL::Const,conR::Const)\n",
    "    \n",
    "    nv = 3\n",
    "    jx = 800\n",
    "    \n",
    "    cfl = 0.1\n",
    "    lx =1.0\n",
    "    \n",
    "    kindProblem=7\n",
    "    dx=lx/jx\n",
    "    \n",
    "    \n",
    "    ρ1,u1,p1,sxx1 = UL[1],UL[2],UL[3],UL[4]\n",
    "    ρ2,u2,p2,sxx2 = UR[1],UR[2],UR[3],UR[4]\n",
    "    \n",
    "    \n",
    "    global    rB=Var(ρ2,u2,p2,sxx2)\n",
    "    global    lB=Var(ρ1,u1,p1,sxx1)\n",
    "    \n",
    "    global   con1 = conL\n",
    "     global   con2 = conR\n",
    "    #state1=copper\n",
    "\n",
    "    u  = zeros(Float64, (jx+2nv+1,4))\n",
    "    uo = zeros(Float64, (jx+2nv+1,4))\n",
    "    inter=zeros(Int,jx+2nv+1)\n",
    "    x = [(i-nv-1)*dx for i=1:jx+2nv+1]\n",
    "\n",
    "    ii = floor(Int,0.5/dx)+nv+1\n",
    "  \n",
    "    for i=1:jx+2nv+1\n",
    "     #   inter[i] = 1\n",
    "        if i<=ii\n",
    "            uo[i,1] = ρ1\n",
    "            uo[i,2] = u1\n",
    "            uo[i,3] = p1\n",
    "            uo[i,4] = sxx1\n",
    "            u[i,:]=UoTou(uo[i,:],con1)\n",
    "        else\n",
    "            uo[i,1] = ρ2\n",
    "            uo[i,2] = u2\n",
    "            uo[i,3] = p2\n",
    "            uo[i,4] = sxx2\n",
    "            u[i,:]=UoTou(uo[i,:],con2)\n",
    "        end\n",
    "        if i <= ii\n",
    "            inter[i] = 1\n",
    "        else\n",
    "            inter[i] = 2\n",
    "        end\n",
    "    end\n",
    "\n",
    "    global   problem=Global(nv,jx,kindProblem, tt,cfl)\n",
    "    return uo,u,x,inter\n",
    "end"
   ]
  },
  {
   "cell_type": "code",
   "execution_count": 67,
   "metadata": {},
   "outputs": [
    {
     "data": {
      "text/plain": [
       "CompareHalf (generic function with 1 method)"
      ]
     },
     "execution_count": 67,
     "metadata": {},
     "output_type": "execute_result"
    }
   ],
   "source": [
    "function CompareHalf(tt::Float64,UL::Array{Float64,1},UR::Array{Float64,1},conL::Const,conR::Const)\n",
    "    \n",
    "    nv = 3\n",
    "    jx = 800\n",
    "    \n",
    "    cfl = 0.1\n",
    "    lx =1.0\n",
    "    \n",
    "    kindProblem=2\n",
    "    dx=lx/jx\n",
    "    \n",
    "    \n",
    "    ρ1,u1,p1,sxx1 = UL[1],UL[2],UL[3],UL[4]\n",
    "    ρ2,u2,p2,sxx2 = UR[1],UR[2],UR[3],UR[4]\n",
    "    \n",
    "    \n",
    "    global    rB=Var(ρ2,u2,p2,sxx2)\n",
    "    global    lB=Var(ρ1,u1,p1,sxx1)\n",
    "    \n",
    "    global   con1 = conL\n",
    "     global   con2 = conR\n",
    "    #state1=copper\n",
    "\n",
    "    u  = zeros(Float64, (jx+2nv+1,4))\n",
    "    uo = zeros(Float64, (jx+2nv+1,4))\n",
    "    inter=zeros(Int,jx+2nv+1)\n",
    "    x = [(i-nv-1)*dx for i=1:jx+2nv+1]\n",
    "\n",
    "    ii = floor(Int,0.5/dx)+nv+1\n",
    "  \n",
    "    for i=1:jx+2nv+1\n",
    "     #   inter[i] = 1\n",
    "            uo[i,1] = ρ2\n",
    "            uo[i,2] = u2\n",
    "            uo[i,3] = p2\n",
    "            uo[i,4] = sxx2\n",
    "            u[i,:]=UoTou(uo[i,:],con2)\n",
    "        if i <= ii\n",
    "            inter[i] = 1\n",
    "        else\n",
    "            inter[i] = 2\n",
    "        end\n",
    "    end\n",
    "\n",
    "    global   problem=Global(nv,jx,kindProblem, tt,cfl)\n",
    "    return uo,u,x,inter\n",
    "end"
   ]
  },
  {
   "cell_type": "code",
   "execution_count": 68,
   "metadata": {},
   "outputs": [
    {
     "data": {
      "text/plain": [
       "CompareHalf2 (generic function with 1 method)"
      ]
     },
     "execution_count": 68,
     "metadata": {},
     "output_type": "execute_result"
    }
   ],
   "source": [
    "function CompareHalf2(tt::Float64,UL::Array{Float64,1},UR::Array{Float64,1},conL::Const,conR::Const)\n",
    "    \n",
    "    nv = 3\n",
    "    jx = 800\n",
    "    \n",
    "    cfl = 0.1\n",
    "    lx =1.0\n",
    "    \n",
    "    kindProblem=23\n",
    "    dx=lx/jx\n",
    "    \n",
    "    \n",
    "    ρ1,u1,p1,sxx1 = UL[1],UL[2],UL[3],UL[4]\n",
    "    ρ2,u2,p2,sxx2 = UR[1],UR[2],UR[3],UR[4]\n",
    "    \n",
    "    \n",
    "    global    rB=Var(ρ2,u2,p2,sxx2)\n",
    "    global    lB=Var(ρ1,u1,p1,sxx1)\n",
    "    \n",
    "    global   con1 = conL\n",
    "     global   con2 = conR\n",
    "    #state1=copper\n",
    "\n",
    "    u  = zeros(Float64, (jx+2nv+1,4))\n",
    "    uo = zeros(Float64, (jx+2nv+1,4))\n",
    "    inter=zeros(Int,jx+2nv+1)\n",
    "    x = [(i-nv-1)*dx for i=1:jx+2nv+1]\n",
    "\n",
    "    ii = floor(Int,0.5/dx)+nv+1\n",
    "  \n",
    "    for i=1:jx+2nv+1\n",
    "     #   inter[i] = 1\n",
    "            uo[i,1] = ρ2\n",
    "            uo[i,2] = u2\n",
    "            uo[i,3] = p2\n",
    "            uo[i,4] = sxx2\n",
    "            u[i,:]=UoTou(uo[i,:],con2)\n",
    "        if i <= ii\n",
    "            inter[i] = 1\n",
    "        else\n",
    "            inter[i] = 2\n",
    "        end\n",
    "    end\n",
    "\n",
    "    global   problem=Global(nv,jx,kindProblem, tt,cfl)\n",
    "    return uo,u,x,inter\n",
    "end"
   ]
  },
  {
   "cell_type": "markdown",
   "metadata": {},
   "source": [
    "### 1. Half Riemann problem with  a left velocity\n",
    "\n",
    "$$u^* = -20$$\n",
    "$$(\\rho_R, u_R, p_R, s_{xxR}) = (8930.0,0.0,1e5,0)$$"
   ]
  },
  {
   "cell_type": "code",
   "execution_count": null,
   "metadata": {},
   "outputs": [],
   "source": [
    "uStar = 20.0\n",
    "UR=[8930.0,0.0,1e5,0]\n",
    "conR = Const(9e7,8930,2.0,4.5e10,3940.0,1.49)\n",
    "conL=conR\n",
    "UL= [8930.0,20.0,1e5,0]\n",
    "x,U = Solve(0.5e-4, 20.0, UR, conR,1)\n",
    "uo,u1,x1,inter = CompareHalf(0.5e-4,UL,UR,conL,conR)\n",
    "uo1,x1 = TimeSolve(uo,x1,inter)"
   ]
  },
  {
   "cell_type": "code",
   "execution_count": null,
   "metadata": {},
   "outputs": [],
   "source": [
    "p1 = plot(x1.+0.5,uo1[:,3],grid=nothing,marker =(3,0.6,Plots.stroke(:blue)),color = \"red\",width=1,line=nothing,label = \"Numerical\")\n",
    " plot!(x.+0.5  ,U[:,3],xlabel= \"x\",ylab=L\"\\rho \\  (kg/m^3)\", width=2,label=\"Exact\",color=\"black\",xlims!=[0.0:1.0])\n",
    "xlims!(0.5,1.0)\n",
    "savefig(p1, \"case10rho.pdf\")"
   ]
  },
  {
   "cell_type": "code",
   "execution_count": null,
   "metadata": {},
   "outputs": [],
   "source": [
    " p1 = plot(x1.+0.5,uo1[:,2],grid=nothing,marker =(3,0.6,Plots.stroke(:blue)),color = \"red\",width=1,line=nothing,label = \"Numerical\",xlims!=[0.0:1.0])\n",
    " plot!(x .+0.5 ,U[:,2],xlabel= \"x\",ylab=L\"u \\  (m/s)\", width=2,label=\"Exact\",color=\"black\")\n",
    "xlims!(0.5,1.0)\n",
    "savefig(p1, \"case10u.pdf\")\n"
   ]
  },
  {
   "cell_type": "code",
   "execution_count": null,
   "metadata": {},
   "outputs": [],
   "source": [
    "p1 = plot(x1 .+0.5,uo1[:,3],grid=nothing,marker =(3,0.6,Plots.stroke(:blue)),color = \"red\",width=1,line=nothing,label = \"Numerical\",xlims!=[0.0:1.0])\n",
    " plot!(x .+0.5 ,U[:,3],xlabel= \"x\",ylab=L\"p \\ (Pa)\", width=2,label=\"Exact\",color=\"black\")\n",
    "xlims!(0.5,1)\n",
    "savefig(p1, \"case10p.pdf\")"
   ]
  },
  {
   "cell_type": "code",
   "execution_count": null,
   "metadata": {},
   "outputs": [],
   "source": [
    "p1 = plot(x1 .+0.5,uo1[:,4],grid=nothing,marker =(3,0.6,Plots.stroke(:blue)),color = \"red\",width=1,line=nothing,label = \"Numerical\",xlims!=[0.0:1.0])\n",
    " plot!(x .+0.5 ,U[:,4],xlabel= \"x\",ylab=L\"s_{xx} \\  (Pa)\", width=2,label=\"Exact\",color=\"black\")\n",
    "xlims!(0.5,1)\n",
    "savefig(p1, \"case10sxx.pdf\")"
   ]
  },
  {
   "cell_type": "markdown",
   "metadata": {},
   "source": [
    "### 1. One plastic shock wave case."
   ]
  },
  {
   "cell_type": "code",
   "execution_count": 86,
   "metadata": {},
   "outputs": [
    {
     "data": {
      "text/plain": [
       "([2785.0, 20.0, 1.0, -2.0e8], [2790.21, 10.0, 1.49131e8, -2.0e8], [2790.21, 10.0, 1.49131e8, -2.0e8], [2785.0, 0.0, 1.0, -2.0e8], Shock(1), Shock(3))"
      ]
     },
     "execution_count": 86,
     "metadata": {},
     "output_type": "execute_result"
    }
   ],
   "source": [
    "UL=  [2785,20.0,1.0,2.0e8]\n",
    "UR = [2785,0.0,1.0,2.0e8]\n",
    "\n",
    "conL = Const(3e8,2785,2.0,2.76e10,5328.0,1.338)\n",
    "conR = Const(3e8,2785,2.0,2.76e10,5328.0,1.338)\n",
    "\n",
    " x, U = Exact_Riemann(UL,UR,conL,conR)"
   ]
  },
  {
   "cell_type": "code",
   "execution_count": 76,
   "metadata": {},
   "outputs": [
    {
     "data": {
      "image/png": "[encoded data removed]"
     },
     "execution_count": 76,
     "metadata": {},
     "output_type": "execute_result"
    }
   ],
   "source": [
    "plot(x,U)"
   ]
  },
  {
   "cell_type": "code",
   "execution_count": 67,
   "metadata": {},
   "outputs": [
    {
     "data": {
      "text/plain": [
       "([8930.0 20.0 1.0e9 6.0e7; 8930.0 20.0 1.0e9 6.0e7; … ; 8930.0 4.50734e-10 1.0e9 -0.00171921; 8930.0 4.50734e-10 1.0e9 -0.00171921], [NaN, -0.0015, -0.00025, 0.001, 0.00225, 0.0035, 0.00475, 0.006, 0.00725, 0.0085  …  0.9925, 0.99375, 0.995, 0.99625, 0.9975, 0.99875, 1.0, 1.00125, NaN, 1.00375])"
      ]
     },
     "execution_count": 67,
     "metadata": {},
     "output_type": "execute_result"
    }
   ],
   "source": [
    "uo,u1,x1,inter = Compare(0.5e-4,UL,UR,conL,conR)\n",
    "uo1,x1 = TimeSolve(uo,x1,inter)"
   ]
  },
  {
   "cell_type": "code",
   "execution_count": 75,
   "metadata": {},
   "outputs": [
    {
     "data": {
      "image/png": "[encoded data removed]"
     },
     "execution_count": 75,
     "metadata": {},
     "output_type": "execute_result"
    }
   ],
   "source": [
    "# p1 = plot(x1,uo1[:,1],grid=nothing,marker =(3,0.6,Plots.stroke(:blue)),color = \"red\",width=1,line=nothing,label = \"Numerical\",xlims!=[0.0:1.0])\n",
    " plot(x  ,U[:,1],xlabel= \"x\",ylab=L\"\\rho \\  (kg/m^3)\", width=2,label=\"Exact\",color=\"black\")\n",
    "#savefig(p1, \"case1rho.pdf\")"
   ]
  },
  {
   "cell_type": "code",
   "execution_count": null,
   "metadata": {},
   "outputs": [],
   "source": [
    " p1 = plot(x1,uo1[:,2],grid=nothing,marker =(3,0.6,Plots.stroke(:blue)),color = \"red\",width=1,line=nothing,label = \"Numerical\",xlims!=[0.0:1.0])\n",
    " plot!(x .+0.5 ,U[:,2],xlabel= \"x\",ylab=L\"u \\  (m/s)\", width=2,label=\"Exact\",color=\"black\")\n",
    "savefig(p1, \"case1u.pdf\")"
   ]
  },
  {
   "cell_type": "code",
   "execution_count": null,
   "metadata": {},
   "outputs": [],
   "source": [
    " p1 = plot(x1,uo1[:,3],grid=nothing,marker =(3,0.6,Plots.stroke(:blue)),color = \"red\",width=1,line=nothing,label = \"Numerical\",xlims!=[0.0:1.0])\n",
    " plot!(x .+0.5 ,U[:,3],xlabel= \"x\",ylab=L\"p \\ (Pa)\", width=2,label=\"Exact\",color=\"black\")\n",
    "savefig(p1, \"case1p.pdf\")"
   ]
  },
  {
   "cell_type": "code",
   "execution_count": null,
   "metadata": {},
   "outputs": [],
   "source": [
    " p1 = plot(x1,-uo[:,3]+uo1[:,4],grid=nothing,marker =(3,0.6,Plots.stroke(:blue)),color = \"red\",width=1,line=nothing,label = \"Numerical\",xlims!=[0.0:1.0])\n",
    " plot!(x .+0.5 ,-U[:,3]+U[:,4],xlabel= \"x\",ylab=L\"\\sigma \\  (Pa)\", width=2,label=\"Exact\",color=\"black\")\n",
    "savefig(p1, \"case1sigma.pdf\")"
   ]
  },
  {
   "cell_type": "markdown",
   "metadata": {},
   "source": [
    "### 2. Two shocks"
   ]
  },
  {
   "cell_type": "code",
   "execution_count": 83,
   "metadata": {},
   "outputs": [
    {
     "data": {
      "text/plain": [
       "([-0.666103, -0.662772, -0.659442, -0.656111, -0.652781, -0.64945, -0.64612, -0.642789, -0.639458, -0.636128  …  0.613797, 0.617028, 0.620258, 0.623489, 0.62672, 0.62995, 0.633181, 0.636411, 0.639642, 0.642872], [2785.0 -200.0 1.0 -2.0e8; 2785.0 -200.0 1.0 -2.0e8; … ; 2785.0 0.0 1.0 -2.0e8; 2785.0 0.0 1.0 -2.0e8])"
      ]
     },
     "execution_count": 83,
     "metadata": {},
     "output_type": "execute_result"
    }
   ],
   "source": [
    "UL=  [2785,-200.0,1.0,-2.0e8]\n",
    "UR = [2785,0.0,1.0,-2.0e8]\n",
    "\n",
    "conL = Const(3e8,2785,2.0,2.76e10,5328.0,1.338)\n",
    "conR = Const(3e8,2785,2.0,2.76e10,5328.0,1.338)\n",
    "\n",
    "x, U = Solve(0.5e-4,UL,UR,conL,conR)"
   ]
  },
  {
   "cell_type": "code",
   "execution_count": 85,
   "metadata": {},
   "outputs": [
    {
     "data": {
      "text/plain": [
       "([2785.0 -200.0 1.027 -2.0e8; 2785.0 -200.0 1.027 -2.0e8; … ; 2785.0 -1.2275e-10 0.992934 -2.0e8; 2785.0 -1.2275e-10 0.992934 -2.0e8], [NaN, -0.0125, -0.01125, -0.01, -0.00875, -0.0075, -0.00625, -0.005, -0.00375, -0.0025  …  0.9925, 0.99375, 0.995, 0.99625, 0.9975, 0.99875, 1.0, 1.00125, NaN, 1.00375])"
      ]
     },
     "execution_count": 85,
     "metadata": {},
     "output_type": "execute_result"
    }
   ],
   "source": [
    "uo,u1,x1,inter = Compare(0.5e-4,UL,UR,conL,conR)\n",
    "uo1,x1 = TimeSolve(uo,x1,inter)"
   ]
  },
  {
   "cell_type": "code",
   "execution_count": 88,
   "metadata": {},
   "outputs": [
    {
     "data": {
      "image/png": "[encoded data removed]"
     },
     "execution_count": 88,
     "metadata": {},
     "output_type": "execute_result"
    }
   ],
   "source": [
    "p1 = plot(x1,uo1[:,3],grid=nothing,marker =(3,0.6,Plots.stroke(:blue)),color = \"red\",width=1,line=nothing,label = \"Numerical\",xlims!=[0.0:1.0])\n",
    " plot!(x .+0.5 ,U[:,3],xlabel= \"sxx\",ylab=L\"\\rho \\  (kg/m^3)\", width=2,label=\"Exact\",color=\"black\")\n",
    "#savefig(p1, \"case2rho.pdf\")"
   ]
  },
  {
   "cell_type": "code",
   "execution_count": null,
   "metadata": {},
   "outputs": [],
   "source": [
    "p1 = plot(x1,uo1[:,2],grid=nothing,marker =(3,0.6,Plots.stroke(:blue)),color = \"red\",width=1,line=nothing,label = \"Numerical\",xlims!=[0.0:1.0])\n",
    " plot!(x .+0.5 ,U[:,2],xlabel= \"x\",ylab=L\"u \\  (m/s)\", width=2,label=\"Exact\",color=\"black\")\n",
    "savefig(p1, \"case2u.pdf\")"
   ]
  },
  {
   "cell_type": "code",
   "execution_count": null,
   "metadata": {},
   "outputs": [],
   "source": [
    "p1 = plot(x1,uo1[:,3],grid=nothing,marker =(3,0.6,Plots.stroke(:red)),color = \"white\",width=1,line=nothing,label = \"Numerical\",xlims!=[0.0:1.0])\n",
    " plot!(x .+0.5 ,U[:,3],xlabel= \"x\",ylab=L\"p \\ (Pa)\", width=2,label=\"Exact\",color=\"black\")\n",
    "savefig(p1, \"case2p.pdf\")"
   ]
  },
  {
   "cell_type": "code",
   "execution_count": null,
   "metadata": {},
   "outputs": [],
   "source": [
    "p1 = plot(x1,uo1[:,4],grid=nothing,marker =(3,0.6,Plots.stroke(:blue)),color = \"red\",width=1,line=nothing,label = \"Numerical\",xlims!=[0.0:1.0])\n",
    " plot!(x .+0.5 ,U[:,4],xlabel= \"x\",ylab=L\"s_{xx} \\  (Pa)\", width=2,label=\"Exact\",color=\"black\")\n",
    "savefig(p1, \"case2sxx.pdf\")"
   ]
  },
  {
   "cell_type": "markdown",
   "metadata": {},
   "source": [
    "### 4.  One Elastic  Rarefaction wave"
   ]
  },
  {
   "cell_type": "code",
   "execution_count": null,
   "metadata": {},
   "outputs": [],
   "source": [
    "UL=  [2785,-2.0,1.0e7,0.0]\n",
    "UR = [2785,2.0,1.0e7,0.0]\n",
    "\n",
    "conL = Const(3e8,2785,2.0,2.76e10,5328.0,1.338)\n",
    "conR = Const(3e8,2785,2.0,2.76e10,5328.0,1.338)\n",
    "\n",
    "x, U = Solve(0.5e-4,UL,UR,conL,conR)\n",
    "\n",
    "uo,u1,x1,inter = Compare(0.5e-4,UL,UR,conL,conR)\n",
    "uo1,x1 = TimeSolve(uo,x1,inter)"
   ]
  },
  {
   "cell_type": "code",
   "execution_count": null,
   "metadata": {},
   "outputs": [],
   "source": [
    "p1 = plot(x1,uo1[:,1],grid=nothing,marker =(3,0.6,Plots.stroke(:blue)),color = \"red\",width=1,line=nothing,label = \"Numerical\",xlims!=[0.0:1.0])\n",
    " plot!(x .+0.5 ,U[:,1],xlabel= \"x\",ylab=L\"\\rho \\  (kg/m^3)\", width=2,label=\"Exact\",color=\"black\")\n",
    "savefig(p1, \"case4rho.pdf\")"
   ]
  },
  {
   "cell_type": "code",
   "execution_count": null,
   "metadata": {},
   "outputs": [],
   "source": [
    "p1 = plot(x1,uo1[:,2],grid=nothing,marker =(3,0.6,Plots.stroke(:blue)),color = \"red\",width=1,line=nothing,label = \"Numerical\",xlims!=[0.0:1.0])\n",
    " plot!(x .+0.5 ,U[:,2],xlabel= \"x\",ylab=L\"u \\  (m/s)\", width=2,label=\"Exact\",color=\"black\")\n",
    "savefig(p1, \"case4u.pdf\")"
   ]
  },
  {
   "cell_type": "code",
   "execution_count": null,
   "metadata": {},
   "outputs": [],
   "source": [
    "p1 = plot(x1,uo1[:,3],grid=nothing,marker =(3,0.6,Plots.stroke(:blue)),color = \"red\",width=1,line=nothing,label = \"Numerical\",xlims!=[0.0:1.0])\n",
    " plot!(x .+0.5 ,U[:,3],xlabel= \"x\",ylab=L\"p \\  (Pa)\", width=2,label=\"Exact\",color=\"black\")\n",
    "savefig(p1, \"case4p.pdf\")"
   ]
  },
  {
   "cell_type": "code",
   "execution_count": null,
   "metadata": {},
   "outputs": [],
   "source": [
    "p1 = plot(x1,uo1[:,4],grid=nothing,marker =(3,0.6,Plots.stroke(:blue)),color = \"red\",width=1,line=nothing,label = \"Numerical\",xlims!=[0.0:1.0])\n",
    " plot!(x .+0.5 ,U[:,4],xlabel= \"x\",ylab=L\"sxx \\  (Pa)\", width=2,label=\"Exact\",color=\"black\")\n",
    "savefig(p1, \"case4sxx.pdf\")"
   ]
  },
  {
   "cell_type": "markdown",
   "metadata": {},
   "source": [
    "### 4.  Two  Rarefaction wave"
   ]
  },
  {
   "cell_type": "code",
   "execution_count": null,
   "metadata": {},
   "outputs": [],
   "source": [
    "UL=  [2785,-40.0,1.0e7,0.0]\n",
    "UR = [2785,40.0,1.0e7,0.0]\n",
    "\n",
    "conL = Const(3e8,2785,2.0,2.76e10,5328.0,1.338)\n",
    "conR = Const(3e8,2785,2.0,2.76e10,5328.0,1.338)\n",
    "\n",
    "x, U = Solve(0.5e-4,UL,UR,conL,conR)\n",
    "uo,u1,x1,inter = Compare(0.5e-4,UL,UR,conL,conR)\n",
    "uo1,x1 = TimeSolve(uo,x1,inter)"
   ]
  },
  {
   "cell_type": "code",
   "execution_count": null,
   "metadata": {},
   "outputs": [],
   "source": [
    "p1 = plot(x1,uo1[:,1],grid=nothing,marker =(3,0.6,Plots.stroke(:blue)),color = \"red\",width=1,line=nothing,label = \"Numerical\",xlims!=[0.0:1.0])\n",
    " plot!(x .+0.5 ,U[:,1],xlabel= \"x\",ylab=L\"\\rho \\  (kg/m^3)\", width=2,label=\"Exact\",color=\"black\")\n",
    "savefig(p1, \"case3rho.pdf\")"
   ]
  },
  {
   "cell_type": "code",
   "execution_count": null,
   "metadata": {},
   "outputs": [],
   "source": [
    "p1 = plot(x1,uo1[:,2],grid=nothing,marker =(3,0.6,Plots.stroke(:blue)),color = \"red\",width=1,line=nothing,label = \"Numerical\",xlims!=[0.0:1.0])\n",
    " plot!(x .+0.5 ,U[:,2],xlabel= \"x\",ylab=L\"\\rho \\  (kg/m^3)\", width=2,label=\"Exact\",color=\"black\")\n",
    "savefig(p1, \"case3u.pdf\")"
   ]
  },
  {
   "cell_type": "code",
   "execution_count": null,
   "metadata": {},
   "outputs": [],
   "source": [
    "p1 = plot(x1,uo1[:,3],grid=nothing,marker =(3,0.6,Plots.stroke(:blue)),color = \"red\",width=1,line=nothing,label = \"Numerical\",xlims!=[0.0:1.0])\n",
    " plot!(x .+0.5 ,U[:,3],xlabel= \"x\",ylab=L\"\\rho \\  (kg/m^3)\", width=2,label=\"Exact\",color=\"black\")\n",
    "savefig(p1, \"case3p.pdf\")"
   ]
  },
  {
   "cell_type": "code",
   "execution_count": null,
   "metadata": {},
   "outputs": [],
   "source": [
    "p1 = plot(x1,uo1[:,4],grid=nothing,marker =(3,0.6,Plots.stroke(:blue)),color = \"red\",width=1,line=nothing,label = \"Numerical\",xlims!=[0.0:1.0])\n",
    " plot!(x .+0.5 ,U[:,4],xlabel= \"x\",ylab=L\"\\rho \\  (kg/m^3)\", width=2,label=\"Exact\",color=\"black\")\n",
    "savefig(p1, \"case3sxx.pdf\")"
   ]
  },
  {
   "cell_type": "markdown",
   "metadata": {},
   "source": [
    "### 5. Multi-material example"
   ]
  },
  {
   "cell_type": "code",
   "execution_count": null,
   "metadata": {},
   "outputs": [],
   "source": [
    "UL=  [2785,200.0,1.0e-1,0.0]\n",
    "UR = [8930,0.0,1.0e-1,0.0]\n",
    "\n",
    "conL = Const(3e8,2785,2.0,2.76e10,5328.0,1.338)\n",
    "conR = Const(9e7,8930,2.0,4.5e10,3940.0,1.49)\n",
    "\n",
    "\n",
    "x, U = Solve(0.5e-4,UL,UR,conL,conR)\n",
    "\n",
    "uo,u1,x1,inter = Compare(0.5e-4,UL,UR,conL,conR)\n",
    "uo1,x1 = TimeSolve(uo,x1,inter)"
   ]
  },
  {
   "cell_type": "code",
   "execution_count": null,
   "metadata": {},
   "outputs": [],
   "source": [
    "p1 = plot(x1,uo1[:,1],grid=nothing,marker =(3,0.6,Plots.stroke(:blue)),color = \"red\",width=1,line=nothing,label = \"Numerical\",xlims!=[0.0:1.0])\n",
    "plot!(x .+0.5 ,U[:,1],xlabel= \"x\",ylab=L\"\\rho \\  (kg/m^3)\", width=1,label=\"Exact\",color=\"black\")\n",
    "p2 =  plot(x1,uo1[:,1],grid=nothing,marker =(3,0.6,Plots.stroke(:blue)),color = \"red\",width=1,line=nothing,leg=false,xlims!=[0.0:1.0])\n",
    "plot!(x .+0.5 ,U[:,1],title=\"Details\", width=1,color=\"black\")\n",
    "xlims!(0.0,0.35)\n",
    "ylims!(2780,2860)\n",
    "p3 =  plot(x1,uo1[:,1],grid=nothing,marker =(3,0.6,Plots.stroke(:blue)),color = \"red\",width=1,line=nothing,leg=false,xlims!=[0.0:1.0])\n",
    "plot!(x .+0.5 ,U[:,1], width=1,color=\"black\")\n",
    "xlims!(0.6,0.8)\n",
    "ylims!(8925,9100)\n",
    "l=@layout [a [b;c]]\n",
    "p=plot(p1,p2,p3,layout=l)\n",
    "savefig(p, \"case6rho.pdf\")"
   ]
  },
  {
   "cell_type": "code",
   "execution_count": null,
   "metadata": {},
   "outputs": [],
   "source": [
    "p1 = plot(x1,uo1[:,2],grid=nothing,marker =(3,0.6,Plots.stroke(:blue)),color = \"red\",width=1,line=nothing,label = \"Numerical\",xlims!=[0.0:1.0])\n",
    "plot!(x .+0.5 ,U[:,2],xlabel= \"x\",ylab=L\"u\\ (m/s)\", width=1,label=\"Exact\",color=\"black\")\n",
    "savefig(p1, \"case6u.pdf\")"
   ]
  },
  {
   "cell_type": "code",
   "execution_count": null,
   "metadata": {},
   "outputs": [],
   "source": [
    "p1 = plot(x1,uo1[:,3],grid=nothing,marker =(3,0.6,Plots.stroke(:blue)),color = \"red\",width=1,line=nothing,label = \"Numerical\",xlims!=[0.0:1.0])\n",
    "plot!(x .+0.5 ,U[:,3],xlabel= \"x\",ylab=L\"p\\ (Pa)\", width=1,label=\"Exact\",color=\"black\")\n",
    "savefig(p1, \"case6p.pdf\")"
   ]
  },
  {
   "cell_type": "code",
   "execution_count": null,
   "metadata": {},
   "outputs": [],
   "source": [
    "p1 = plot(x1,-uo[:,3]+uo[:,4],grid=nothing,marker =(3,0.6,Plots.stroke(:blue)),color = \"red\",width=1,line=nothing,label = \"Numerical\",xlims!=[0.0:1.0])\n",
    "plot!(x .+0.5 ,-U[:,3]+U[:,4],xlabel= \"x\",ylab=L\"\\sigma\\ (Pa)\", width=1,label=\"Exact\",color=\"black\")\n",
    "savefig(p1, \"case6sigma.pdf\")"
   ]
  },
  {
   "cell_type": "markdown",
   "metadata": {},
   "source": [
    "### 6. Multi-example 2"
   ]
  },
  {
   "cell_type": "code",
   "execution_count": null,
   "metadata": {},
   "outputs": [],
   "source": [
    "UL=  [8930,0.0,1.0e10,0.0]\n",
    "UR = [2785,0.0,1.0e1,0.0]\n",
    "\n",
    "conL = Const(9e7,8930,2.0,4.5e10,3940.0,1.49)\n",
    "conR = Const(3e8,2785,2.0,2.76e10,5328.0,1.338)\n",
    "\n",
    "x, U = Solve(0.5e-4,UL,UR,conL,conR)\n",
    "\n",
    "uo,u1,x1,inter = Compare(0.5e-4,UL,UR,conL,conR)\n",
    "uo1,x1 = TimeSolve(uo,x1,inter)"
   ]
  },
  {
   "cell_type": "code",
   "execution_count": null,
   "metadata": {},
   "outputs": [],
   "source": [
    "p1 = plot(x1,uo1[:,1],grid=nothing,marker =(3,0.6,Plots.stroke(:blue)),color = \"red\",width=1,line=nothing,label = \"Numerical\",xlims!=[0.0:1.0])\n",
    "plot!(x .+0.5 ,U[:,1],xlabel= \"x\",ylab=L\"\\rho \\  (kg/m^3)\", width=1,label=\"Exact\",color=\"black\")\n",
    "p2 =  plot(x1,uo1[:,1],grid=nothing,marker =(3,0.6,Plots.stroke(:blue)),color = \"red\",width=1,line=nothing,leg=false,xlims!=[0.0:1.0])\n",
    "plot!(x .+0.5 ,U[:,1],title=\"Details\", width=1,color=\"black\")\n",
    "xlims!(0.23,0.3)\n",
    "ylims!(8900,8940)\n",
    "p3 =  plot(x1,uo1[:,1],grid=nothing,marker =(3,0.6,Plots.stroke(:blue)),color = \"red\",width=1,line=nothing,leg=false,xlims!=[0.0:1.0])\n",
    "plot!(x .+0.5 ,U[:,1], width=1,color=\"black\")\n",
    "xlims!(0.73,0.9)\n",
    "ylims!(2780,2906)\n",
    "l=@layout [a [b;c]]\n",
    "p=plot(p1,p2,p3,layout=l)\n",
    "savefig(p, \"case8rho.pdf\")"
   ]
  },
  {
   "cell_type": "code",
   "execution_count": null,
   "metadata": {},
   "outputs": [],
   "source": [
    "p1 = plot(x1,uo1[:,2],grid=nothing,marker =(3,0.6,Plots.stroke(:blue)),color = \"red\",width=1,line=nothing,label = \"Numerical\",xlims!=[0.0:1.0])\n",
    "plot!(x .+0.5 ,U[:,2],xlabel= \"x\",ylab=L\"u\\ (m/s)\", width=1,label=\"Exact\",color=\"black\")\n",
    "savefig(p1, \"case8u.pdf\")"
   ]
  },
  {
   "cell_type": "code",
   "execution_count": null,
   "metadata": {},
   "outputs": [],
   "source": [
    "p1 = plot(x1,uo1[:,3],grid=nothing,marker =(3,0.6,Plots.stroke(:blue)),color = \"red\",width=1,line=nothing,label = \"Numerical\",xlims!=[0.0:1.0])\n",
    "plot!(x .+0.5 ,U[:,3],xlabel= \"x\",ylab=L\"p\\ (Pa)\", width=1,label=\"Exact\",color=\"black\")\n",
    "savefig(p1, \"case8p.pdf\")"
   ]
  },
  {
   "cell_type": "code",
   "execution_count": null,
   "metadata": {},
   "outputs": [],
   "source": [
    "p1 = plot(x1,-uo1[:,3]+uo[:,4],grid=nothing,marker =(3,0.6,Plots.stroke(:blue)),color = \"red\",width=1,line=nothing,label = \"Numerical\",xlims!=[0.0:1.0])\n",
    "plot!(x .+0.5 ,-U[:,3]+U[:,4],xlabel= \"x\",ylab=L\"\\sigma\\ (Pa)\", width=1,label=\"Exact\",color=\"black\")\n",
    "savefig(p1, \"case8sigma.pdf\")"
   ]
  },
  {
   "cell_type": "markdown",
   "metadata": {},
   "source": [
    "### Comparason numerical results"
   ]
  },
  {
   "cell_type": "code",
   "execution_count": null,
   "metadata": {},
   "outputs": [],
   "source": [
    "plot(iris, x=:SepalLength, y =:SepalWidth, Geom.line)"
   ]
  },
  {
   "cell_type": "code",
   "execution_count": null,
   "metadata": {},
   "outputs": [],
   "source": [
    "UL=  [2785,40.0,1.0e8,-2.0e8]\n",
    "UR = [2785,-40.0,1.0e2,0.0]\n",
    "\n",
    "conL = Const(3e8,2785,2.0,2.76e10,5328.0,1.338)\n",
    "conR = Const(3e8,2785,2.0,2.76e10,5328.0,1.338)\n",
    "\n",
    "x, U = Solve(0.5e-4,UL,UR,conL,conR)\n",
    "uo,u1,x1,inter = Compare(0.5e-4,UL,UR,conL,conR)\n",
    "uo1,x1 = TimeSolve(uo,x1,inter)"
   ]
  },
  {
   "cell_type": "code",
   "execution_count": null,
   "metadata": {},
   "outputs": [],
   "source": [
    "p1 = plot(x1,uo1[:,1],grid=nothing,marker =(3,0.6,Plots.stroke(:blue)),color = \"red\",width=1,line=nothing,label = \"Numerical\",xlims!=[0.0:1.0])\n",
    " plot!(x .+0.5 ,U[:,1],xlabel= \"x\",ylab=L\"\\rho \\  (kg/m^3)\", width=2,label=\"Exact\",color=\"black\")\n",
    "savefig(p1, \"case5rho.pdf\")"
   ]
  },
  {
   "cell_type": "code",
   "execution_count": null,
   "metadata": {},
   "outputs": [],
   "source": [
    "p1 = plot(x1,uo1[:,2],grid=nothing,marker =(3,0.6,Plots.stroke(:blue)),color = \"red\",width=1,line=nothing,label = \"Numerical\",xlims!=[0.0:1.0])\n",
    "plot!(x .+0.5 ,U[:,2],xlabel= \"x\",ylab=L\"u\\ (m/s)\", width=2,label=\"Exact\",color=\"black\")\n",
    "savefig(p1, \"case5u.pdf\")"
   ]
  },
  {
   "cell_type": "code",
   "execution_count": null,
   "metadata": {},
   "outputs": [],
   "source": [
    "p1 = plot(x1,uo1[:,3],grid=nothing,marker =(3,0.6,Plots.stroke(:blue)),color = \"red\",width=1,line=nothing,label = \"Numerical\",xlims!=[0.0:1.0])\n",
    "plot!(x .+0.5 ,U[:,3],xlabel= \"x\",ylab=L\"p\\ (Pa)\", width=2,label=\"Exact\",color=\"black\")\n",
    "savefig(p1, \"case5p.pdf\")"
   ]
  },
  {
   "cell_type": "code",
   "execution_count": null,
   "metadata": {},
   "outputs": [],
   "source": [
    "p1 = plot(x1,uo[:,4],grid=nothing,marker =(3,0.6,Plots.stroke(:blue)),color = \"red\",width=1,line=nothing,label = \"Numerical\",xlims!=[0.0:1.0])\n",
    "plot!(x .+0.5 ,U[:,4],xlabel= \"x\",ylab=L\"s_{xx}\\ (Pa)\", width=2,label=\"Exact\",color=\"black\")\n",
    "savefig(p1, \"case5sxx.pdf\")"
   ]
  },
  {
   "cell_type": "code",
   "execution_count": 164,
   "metadata": {},
   "outputs": [
    {
     "name": "stdout",
     "output_type": "stream",
     "text": [
      "F = [0.0, -1.0e10]\n",
      "(caseL, caseR) = (Rare(2), Shock(4))\n",
      "F = [1.51602, -2.49433e9]\n",
      "(caseL, caseR) = (Rare(2), Shock(4))\n",
      "F = [-0.591929, 6.70119e6]\n",
      "(caseL, caseR) = (Rare(2), Shock(4))\n",
      "F = [-1.43734e-5, 1061.23]\n",
      "(caseL, caseR) = (Rare(2), Shock(4))\n",
      "(sLSlow, sLMid, sLFast) = (-6984.451092964855, -6904.381515036783, -5214.996564634679)\n",
      "(sR, s̃R) = (6490.425973221977, 5788.981416694145)\n"
     ]
    },
    {
     "data": {
      "text/plain": [
       "([2785.0 7.37864e-14 1.0e10 2.00029e-5; 2785.0 7.37864e-14 1.0e10 2.00029e-5; … ; 2785.0 5.90637e-10 99.993 -0.00103187; 2785.0 5.90637e-10 99.993 -0.00103187], [NaN, -0.0025, -0.00125, 1.09008e-19, 0.00125, 0.0025, 0.00375, 0.005, 0.00625, 0.0075  …  0.9925, 0.99375, 0.995, 0.99625, 0.9975, 0.99875, 1.0, 1.00125, NaN, 1.00375])"
      ]
     },
     "execution_count": 164,
     "metadata": {},
     "output_type": "execute_result"
    }
   ],
   "source": [
    "UL=  [2785,0.0,1.0e10,0.0]\n",
    "UR = [2785,0.0,1.0e2,0.0]\n",
    "\n",
    "#conL = Const(9e7,8930,2.0,4.5e10,3940.0,1.49)\n",
    "conL = Const(3e8,2785,2.0,2.76e10,5328.0,1.338)\n",
    "conR = Const(3e8,2785,2.0,2.76e10,5328.0,1.338)\n",
    "\n",
    "@btime x, U = R(0.5e-4,UL,UR,conL,conR)\n",
    "#uo,u1,x1,inter = Compare(0.5e-4,UL,UR,conL,conR)\n",
    "#uo1,x1 = TimeSolve(uo,x1,inter)"
   ]
  },
  {
   "cell_type": "code",
   "execution_count": 165,
   "metadata": {
    "scrolled": true
   },
   "outputs": [
    {
     "data": {
      "image/png": "[encoded data removed]",
      "text/plain": [
       "PyPlot.Figure(PyObject <Figure size 600x400 with 1 Axes>)"
      ]
     },
     "metadata": {},
     "output_type": "display_data"
    }
   ],
   "source": [
    "p1 = plot(x1,uo1[:,1],grid=nothing,marker =(3,0.6,Plots.stroke(:blue)),color = \"red\",width=1,line=nothing,label = \"Numerical\",xlims!=[0.0:1.0])\n",
    " plot!(x .+0.5 ,U[:,1],xlabel= \"x\",ylab=L\"\\rho \\  (kg/m^3)\", width=2,label=\"Exact\",color=\"black\")\n",
    "savefig(p1, \"case9rho.pdf\")"
   ]
  },
  {
   "cell_type": "code",
   "execution_count": 166,
   "metadata": {},
   "outputs": [
    {
     "data": {
      "image/png": "[encoded data removed]",
      "text/plain": [
       "PyPlot.Figure(PyObject <Figure size 600x400 with 1 Axes>)"
      ]
     },
     "metadata": {},
     "output_type": "display_data"
    }
   ],
   "source": [
    "p1 = plot(x1,uo1[:,2],grid=nothing,marker =(3,0.6,Plots.stroke(:blue)),color = \"red\",width=1,line=nothing,label = \"Numerical\",xlims!=[0.0:1.0])\n",
    "plot!(x .+0.5 ,U[:,2],xlabel= \"x\",ylab=L\"u\\ (m/s)\", width=2,label=\"Exact\",color=\"black\")\n",
    "savefig(p1, \"case9u.pdf\")"
   ]
  },
  {
   "cell_type": "code",
   "execution_count": 167,
   "metadata": {},
   "outputs": [
    {
     "data": {
      "image/png": "[encoded data removed]",
      "text/plain": [
       "PyPlot.Figure(PyObject <Figure size 600x400 with 1 Axes>)"
      ]
     },
     "metadata": {},
     "output_type": "display_data"
    }
   ],
   "source": [
    "p1 = plot(x1,uo1[:,3],grid=nothing,marker =(3,0.6,Plots.stroke(:blue)),color = \"red\",width=1,line=nothing,label = \"Numerical\",xlims!=[0.0:1.0])\n",
    "plot!(x .+0.5 ,U[:,3],xlabel= \"x\",ylab=L\"p\\ (Pa)\", width=2,label=\"Exact\",color=\"black\")\n",
    "savefig(p1, \"case9p.pdf\")"
   ]
  },
  {
   "cell_type": "code",
   "execution_count": 168,
   "metadata": {},
   "outputs": [
    {
     "data": {
      "image/png": "[encoded data removed]",
      "text/plain": [
       "PyPlot.Figure(PyObject <Figure size 600x400 with 1 Axes>)"
      ]
     },
     "metadata": {},
     "output_type": "display_data"
    }
   ],
   "source": [
    "p1 = plot(x1,uo[:,4],grid=nothing,marker =(3,0.6,Plots.stroke(:blue)),color = \"red\",width=1,line=nothing,label = \"Numerical\",xlims!=[0.0:1.0])\n",
    "plot!(x .+0.5 ,U[:,4],xlabel= \"x\",ylab=L\"s_{xx}\\ (Pa)\", width=2,label=\"Exact\",color=\"black\")\n",
    "savefig(p1, \"case9sxx.pdf\")"
   ]
  }
 ],
 "metadata": {
  "kernelspec": {
   "display_name": "Julia 1.1.1",
   "language": "julia",
   "name": "julia-1.1"
  },
  "language_info": {
   "file_extension": ".jl",
   "mimetype": "application/julia",
   "name": "julia",
   "version": "1.1.1"
  }
 },
 "nbformat": 4,
 "nbformat_minor": 2
}
