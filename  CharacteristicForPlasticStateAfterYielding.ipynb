{
 "cells": [
  {
   "cell_type": "markdown",
   "metadata": {},
   "source": [
    "# Equations"
   ]
  },
  {
   "cell_type": "markdown",
   "metadata": {},
   "source": [
    " \\begin{equation}\\label{eq:1d}\n",
    "   \\left\\{ \\begin{aligned}\n",
    "       & \\partial _t \\rho +\\partial_x(\\rho u)=0,\\\\\n",
    "       & \\partial _t (\\rho u)+\\partial_x(\\rho u^2 + p -s_{xx})=0,\\\\\n",
    "       &\\partial _t (\\rho E)+\\partial_x\\left[(\\rho E + p -s_{xx})u\\right]=0,\\\\\n",
    "       &\\partial _t s_{xx}+u\\partial_xs_{xx}-\\frac{4}{3}\\partial_x u=0,\\\\\n",
    "& |s_{xx}|\\leq \\frac{2}{3}Y_{0}, \\\\\n",
    "       &Q(x,t = 0) = \\left\\{\\begin{aligned}\n",
    "           Q_L, \\hspace{0.1cm} \\text{if} \\hspace{0.1cm} x<0, \\\\\n",
    "           Q_R, \\hspace{0.1cm} \\text{if} \\hspace{0.1cm} x\\ge 0, \\\\\n",
    "       \\end{aligned}\\right.\n",
    "     \\end{aligned}\n",
    "  \\right.\n",
    "\\end{equation}\n"
   ]
  },
  {
   "cell_type": "markdown",
   "metadata": {},
   "source": [
    "When the material is yielding,\n",
    "\\begin{equation}\n",
    "  |s_{xx}| = \\frac{2}{3}Y_0,\n",
    "\\end{equation}\n",
    "the system is turned into a more simple system with only constitutive terms\n",
    "\\begin{equation}\n",
    "  \\partial_t \\mathbf{{U}} + \\partial_x \\mathbf{F}= 0,\n",
    "\\end{equation}\n",
    "where $\\mathbf{U} = (\\rho, \\rho u, \\rho E )$ and $\\mathbf{F} = \\left(\\rho u, \\rho u^2 +p -sxx, (\\rho E+p-sxx)u\\right)$.\n",
    "$$ p = \\rho_0 a_0^2 f_\\eta +\\rho_0 \\Gamma_0 (E-\\frac{u^2}{2})$$\n",
    "In the following we will give the Jaccobi matrix of $\\frac{\\partial \\mathbf{F}}{\\partial \\mathbf{U}}$."
   ]
  },
  {
   "cell_type": "code",
   "execution_count": 1,
   "metadata": {},
   "outputs": [],
   "source": [
    "using SymPy  # you nedd sympy package and your python also need to  have a sympy."
   ]
  },
  {
   "cell_type": "code",
   "execution_count": 2,
   "metadata": {},
   "outputs": [
    {
     "data": {
      "text/plain": [
       "(ρ, e, u, Γ, σ, p_ρ, sxx, μ, p)"
      ]
     },
     "execution_count": 2,
     "metadata": {},
     "output_type": "execute_result"
    }
   ],
   "source": [
    "@vars ρ e u Γ σ p_ρ  sxx μ p"
   ]
  },
  {
   "cell_type": "code",
   "execution_count": 25,
   "metadata": {},
   "outputs": [
    {
     "data": {
      "text/latex": [
       "\\begin{equation*}\\operatorname{fη}{\\left(x \\right)}\\end{equation*}"
      ],
      "text/plain": [
       "fη(x)"
      ]
     },
     "execution_count": 25,
     "metadata": {},
     "output_type": "execute_result"
    }
   ],
   "source": [
    "@vars x y z \n",
    "@vars a_0 ρ_0 Γ_0 Γ\n",
    "fη= sympy.Function(\"fη\")\n",
    "fη = fη(x)"
   ]
  },
  {
   "cell_type": "markdown",
   "metadata": {},
   "source": [
    "$$ U = (\\rho,\\rho u, \\rho E)=(x,y,z) $$\n",
    "Turn $\\mathbf{F}$ into $(x,y,z)$ space."
   ]
  },
  {
   "cell_type": "code",
   "execution_count": 24,
   "metadata": {},
   "outputs": [
    {
     "data": {
      "text/latex": [
       "\\begin{equation*}\\frac{y \\left(a_{0}^{2} ρ_{0} \\operatorname{fη}{\\left(x \\right)} - sxx + z + Γ_{0} ρ_{0} \\left(\\frac{z}{x} - \\frac{y^{2}}{2 x^{2}}\\right)\\right)}{x}\\end{equation*}"
      ],
      "text/plain": [
       "  ⎛                               ⎛      2 ⎞⎞\n",
       "  ⎜  2                            ⎜z    y  ⎟⎟\n",
       "y⋅⎜a₀ ⋅ρ₀⋅fη(x) - sxx + z + Γ₀⋅ρ₀⋅⎜─ - ────⎟⎟\n",
       "  ⎜                               ⎜x      2⎟⎟\n",
       "  ⎝                               ⎝    2⋅x ⎠⎠\n",
       "─────────────────────────────────────────────\n",
       "                      x                      "
      ]
     },
     "execution_count": 24,
     "metadata": {},
     "output_type": "execute_result"
    }
   ],
   "source": [
    "f1 =  ρ*u \n",
    "f12 = f1(ρ=>x, u=>y/x)\n",
    "f2 = ρ*u^2 + p-sxx \n",
    "f22 = f2(ρ=>x, u=>y/x, p=> ρ_0*a_0^2*fη(x)+ρ_0*Γ_0*(z/x-y^2/x^2/2))\n",
    "f3 = (ρ*E+p-sxx)*u\n",
    "f32 = f3(ρ=>x, u=>y/x, E=>z/x, p=> ρ_0*a_0^2*fη(x)+ρ_0*Γ_0*(z/x-y^2/x^2/2))"
   ]
  },
  {
   "cell_type": "markdown",
   "metadata": {},
   "source": [
    "# 在(x,y ,z) 空间求解Jaccobi矩阵\n",
    "# Give the Jaccobi in the (x,y,z) space"
   ]
  },
  {
   "cell_type": "code",
   "execution_count": 10,
   "metadata": {},
   "outputs": [
    {
     "data": {
      "text/plain": [
       "(0, 1, 0)"
      ]
     },
     "execution_count": 10,
     "metadata": {},
     "output_type": "execute_result"
    }
   ],
   "source": [
    "F11, F12, F13 = sympy.diff(f12,x), sympy.diff(f12,y),sympy.diff(f12,z)"
   ]
  },
  {
   "cell_type": "code",
   "execution_count": 11,
   "metadata": {},
   "outputs": [
    {
     "data": {
      "text/plain": [
       "((a_0^2*x^3*ρ_0*Derivative(fη(x), x) - x*y^2 - Γ_0*ρ_0*(x*z - y^2))/x^3, y*(2*x - Γ_0*ρ_0)/x^2, Γ_0*ρ_0/x)"
      ]
     },
     "execution_count": 11,
     "metadata": {},
     "output_type": "execute_result"
    }
   ],
   "source": [
    "F21, F22, F23 = simplify(sympy.diff(f22,x)), simplify(sympy.diff(f22,y)),sympy.diff(f22,z)"
   ]
  },
  {
   "cell_type": "code",
   "execution_count": 12,
   "metadata": {},
   "outputs": [
    {
     "data": {
      "text/plain": [
       "(y*(-2*x^2*(a_0^2*ρ_0*fη(x) - sxx + z) - Γ_0*ρ_0*(2*x*z - y^2) + 2*ρ_0*(a_0^2*x^3*Derivative(fη(x), x) - Γ_0*(x*z - y^2)))/(2*x^4), a_0^2*ρ_0*fη(x)/x - sxx/x + z/x + z*Γ_0*ρ_0/x^2 - 3*y^2*Γ_0*ρ_0/(2*x^3), y*(x + Γ_0*ρ_0)/x^2)"
      ]
     },
     "execution_count": 12,
     "metadata": {},
     "output_type": "execute_result"
    }
   ],
   "source": [
    "F31, F32, F33 = simplify(sympy.diff(f32,x)), simplify(sympy.diff(f32,y)),simplify(sympy.diff(f32,z))"
   ]
  },
  {
   "cell_type": "markdown",
   "metadata": {},
   "source": [
    "## 变换回 ( ρ, ρu, ρE)空间\n",
    "# Change back into the $(\\rho, \\rho u,\\rho E)$ space              "
   ]
  },
  {
   "cell_type": "code",
   "execution_count": 13,
   "metadata": {},
   "outputs": [
    {
     "data": {
      "text/latex": [
       "\\begin{equation*}0\\end{equation*}"
      ],
      "text/plain": [
       "0"
      ]
     },
     "execution_count": 13,
     "metadata": {},
     "output_type": "execute_result"
    }
   ],
   "source": [
    "F11 = F11(x=>ρ, y=>ρ*u, z=>ρ*E)"
   ]
  },
  {
   "cell_type": "code",
   "execution_count": 14,
   "metadata": {},
   "outputs": [
    {
     "data": {
      "text/latex": [
       "\\begin{equation*}\\frac{a_{0}^{2} ρ ρ_{0} \\frac{d}{d ρ} \\operatorname{fη}{\\left(ρ \\right)} - u^{2} ρ + Γ_{0} ρ_{0} \\left(u^{2} - e\\right)}{ρ}\\end{equation*}"
      ],
      "text/plain": [
       "  2      d            2           ⎛ 2    ⎞\n",
       "a₀ ⋅ρ⋅ρ₀⋅──(fη(ρ)) - u ⋅ρ + Γ₀⋅ρ₀⋅⎝u  - ℯ⎠\n",
       "         dρ                               \n",
       "──────────────────────────────────────────\n",
       "                    ρ                     "
      ]
     },
     "execution_count": 14,
     "metadata": {},
     "output_type": "execute_result"
    }
   ],
   "source": [
    "F21 = simplify(F21(x=>ρ, y=>ρ*u, z=>ρ*E))"
   ]
  },
  {
   "cell_type": "markdown",
   "metadata": {},
   "source": [
    "$$ a_0^2f\\eta\\eta - u^2 + \\frac{\\Gamma_0 \\rho_0}{\\rho}(-e + \\frac{u^2}{2}) $$"
   ]
  },
  {
   "cell_type": "code",
   "execution_count": 15,
   "metadata": {},
   "outputs": [
    {
     "data": {
      "text/latex": [
       "\\begin{equation*}- \\frac{u Γ_{0} ρ_{0}}{ρ} + 2 u\\end{equation*}"
      ],
      "text/plain": [
       "  u⋅Γ₀⋅ρ₀      \n",
       "- ─────── + 2⋅u\n",
       "     ρ         "
      ]
     },
     "execution_count": 15,
     "metadata": {},
     "output_type": "execute_result"
    }
   ],
   "source": [
    "F22 = simplify(F22(x=>ρ, y=>ρ*u, z=>ρ*E))"
   ]
  },
  {
   "cell_type": "markdown",
   "metadata": {},
   "source": [
    "$$u(2-\\frac{\\Gamma_0\\rho_0}{\\rho})$$"
   ]
  },
  {
   "cell_type": "code",
   "execution_count": 16,
   "metadata": {},
   "outputs": [
    {
     "data": {
      "text/latex": [
       "\\begin{equation*}\\frac{Γ_{0} ρ_{0}}{ρ}\\end{equation*}"
      ],
      "text/plain": [
       "Γ₀⋅ρ₀\n",
       "─────\n",
       "  ρ  "
      ]
     },
     "execution_count": 16,
     "metadata": {},
     "output_type": "execute_result"
    }
   ],
   "source": [
    "F23 = simplify(F23(x=>ρ, y=>ρ*u, z=>ρ*E))"
   ]
  },
  {
   "cell_type": "code",
   "execution_count": 17,
   "metadata": {},
   "outputs": [
    {
     "data": {
      "text/latex": [
       "\\begin{equation*}a_{0}^{2} u ρ_{0} \\frac{d}{d ρ} \\operatorname{fη}{\\left(ρ \\right)} - \\frac{a_{0}^{2} u ρ_{0} \\operatorname{fη}{\\left(ρ \\right)}}{ρ} - 2 e u Γ - e u + \\frac{sxx u}{ρ} + \\frac{u^{3} Γ}{2} - \\frac{u^{3}}{2}\\end{equation*}"
      ],
      "text/plain": [
       "                       2                                       3      3\n",
       "  2      d           a₀ ⋅u⋅ρ₀⋅fη(ρ)                   sxx⋅u   u ⋅Γ   u \n",
       "a₀ ⋅u⋅ρ₀⋅──(fη(ρ)) - ────────────── - 2⋅e⋅u⋅Γ - e⋅u + ───── + ──── - ──\n",
       "         dρ                ρ                            ρ      2     2 "
      ]
     },
     "execution_count": 17,
     "metadata": {},
     "output_type": "execute_result"
    }
   ],
   "source": [
    "F31 = simplify(F31(x=>ρ, y=>ρ*u, z=>ρ*E))\n",
    "F31 = simplify(F31(E=>e+u^2/2, Γ_0*ρ_0=> Γ*ρ))"
   ]
  },
  {
   "cell_type": "markdown",
   "metadata": {},
   "source": [
    "$$ \\left[ a_0^2 f\\eta \\eta  + \\frac{\\sigma}{\\rho} -(\\Gamma+1)e +\\frac{u^2}{2}(\\Gamma -1)\\right] u $$"
   ]
  },
  {
   "cell_type": "code",
   "execution_count": 19,
   "metadata": {},
   "outputs": [
    {
     "data": {
      "text/latex": [
       "\\begin{equation*}\\frac{a_{0}^{2} ρ_{0} \\operatorname{fη}{\\left(ρ \\right)}}{ρ} + e Γ + e - \\frac{sxx}{ρ} - u^{2} Γ + \\frac{u^{2}}{2}\\end{equation*}"
      ],
      "text/plain": [
       "  2                                    2\n",
       "a₀ ⋅ρ₀⋅fη(ρ)             sxx    2     u \n",
       "──────────── + e⋅Γ + e - ─── - u ⋅Γ + ──\n",
       "     ρ                    ρ           2 "
      ]
     },
     "execution_count": 19,
     "metadata": {},
     "output_type": "execute_result"
    }
   ],
   "source": [
    "F32 = simplify(F32(x=>ρ, y=>ρ*u, z=>ρ*E, Γ_0* ρ_0 => Γ*ρ))\n",
    "F32 = simplify(F32(E=>e+u^2/2))"
   ]
  },
  {
   "cell_type": "markdown",
   "metadata": {},
   "source": [
    "$$-\\frac{\\sigma}{\\rho} +e -u^2\\Gamma +\\frac{u^2}{2}$$"
   ]
  },
  {
   "cell_type": "code",
   "execution_count": 20,
   "metadata": {},
   "outputs": [
    {
     "data": {
      "text/latex": [
       "\\begin{equation*}u \\left(Γ + 1\\right)\\end{equation*}"
      ],
      "text/plain": [
       "u⋅(Γ + 1)"
      ]
     },
     "execution_count": 20,
     "metadata": {},
     "output_type": "execute_result"
    }
   ],
   "source": [
    "F33 = simplify(F33(x=>ρ, y=>ρ*u, z=>ρ*E, Γ_0* ρ_0 => Γ*ρ))"
   ]
  },
  {
   "cell_type": "markdown",
   "metadata": {},
   "source": [
    "## 最终形式"
   ]
  },
  {
   "cell_type": "code",
   "execution_count": 311,
   "metadata": {},
   "outputs": [
    {
     "data": {
      "text/latex": [
       "\\[\\left[ \\begin{array}{rrr}0&1&0\\\\p_{ρ} - u^{2} + Γ \\left(- e + \\frac{u^{2}}{2}\\right)&u \\left(2 - Γ\\right)&Γ\\\\u \\left(- e \\left(Γ + 1\\right) + p_{ρ} + \\frac{u^{2} \\left(Γ - 1\\right)}{2} + \\frac{σ}{ρ}\\right)&e - u^{2} Γ + \\frac{u^{2}}{2} - \\frac{σ}{ρ}&u \\left(Γ + 1\\right)\\end{array}\\right]\\]"
      ],
      "text/plain": [
       "3×3 Array{Sym,2}:\n",
       "                                          0  …                        1          0\n",
       "                 p_ρ - u^2 + Γ*(-e + u^2/2)                   u*(2 - Γ)          Γ\n",
       " u*(-e*(Γ + 1) + p_ρ + u^2*(Γ - 1)/2 + σ/ρ)     e - u^2*Γ + u^2/2 - σ/ρ  u*(Γ + 1)"
      ]
     },
     "execution_count": 311,
     "metadata": {},
     "output_type": "execute_result"
    }
   ],
   "source": [
    "D =sympy.Matrix([0 1 0 ; \n",
    "        -u^2+p_ρ+Γ*(u^2/2-e) u*(2-Γ) Γ ; \n",
    "        ((Γ-1)*u^2/2-(Γ+1)*e+σ/ρ+p_ρ)*u  u^2/2-Γ*u^2-σ/ρ+e (1+Γ)*u ])"
   ]
  },
  {
   "cell_type": "markdown",
   "metadata": {},
   "source": [
    "## 求解特征值"
   ]
  },
  {
   "cell_type": "code",
   "execution_count": 312,
   "metadata": {},
   "outputs": [
    {
     "data": {
      "text/latex": [
       "\\[ \\left[ \\begin{array}{r}\\frac{u ρ + \\sqrt{p_{ρ} ρ^{2} - Γ ρ σ}}{ρ}\\\\u\\\\\\frac{u ρ - \\sqrt{p_{ρ} ρ^{2} - Γ ρ σ}}{ρ}\\end{array} \\right] \\]"
      ],
      "text/plain": [
       "3-element Array{Sym,1}:\n",
       " (u*ρ + sqrt(p_ρ*ρ^2 - Γ*ρ*σ))/ρ\n",
       "                               u\n",
       " (u*ρ - sqrt(p_ρ*ρ^2 - Γ*ρ*σ))/ρ"
      ]
     },
     "execution_count": 312,
     "metadata": {},
     "output_type": "execute_result"
    }
   ],
   "source": [
    "eigvals(D)"
   ]
  },
  {
   "cell_type": "markdown",
   "metadata": {},
   "source": [
    "$$ \\lambda_1 =u,\\quad \\lambda_2 = u+c, \\quad \\lambda_3 = u-c$$ \n",
    "where \n",
    "$$ c= \\sqrt{\\frac{\\partial p}{\\partial \\rho}-\\frac{\\Gamma \\sigma}{\\rho}}$$"
   ]
  },
  {
   "cell_type": "markdown",
   "metadata": {},
   "source": [
    "## 求解特征矩阵"
   ]
  },
  {
   "cell_type": "code",
   "execution_count": 323,
   "metadata": {},
   "outputs": [
    {
     "data": {
      "text/plain": [
       "3-element Array{Array{Sym,1},1}:\n",
       " [Γ/(-p_ρ + u^2 - u*(u*(2 - Γ) - u) - Γ*(-e + u^2/2)), u*Γ/(-p_ρ + u^2 - u*(u*(2 - Γ) - u) - Γ*(-e + u^2/2)), 1]                                                                                                                                                        \n",
       " [Γ/(-p_ρ + u^2 - Γ*(-e + u^2/2) - (u*ρ - sqrt(p_ρ*ρ^2 - Γ*ρ*σ))*(u*(2 - Γ) - (u*ρ - sqrt(p_ρ*ρ^2 - Γ*ρ*σ))/ρ)/ρ), Γ*(u*ρ - sqrt(p_ρ*ρ^2 - Γ*ρ*σ))/(ρ*(-p_ρ + u^2 - Γ*(-e + u^2/2) - (u*ρ - sqrt(p_ρ*ρ^2 - Γ*ρ*σ))*(u*(2 - Γ) - (u*ρ - sqrt(p_ρ*ρ^2 - Γ*ρ*σ))/ρ)/ρ)), 1]\n",
       " [Γ/(-p_ρ + u^2 - Γ*(-e + u^2/2) - (u*ρ + sqrt(p_ρ*ρ^2 - Γ*ρ*σ))*(u*(2 - Γ) - (u*ρ + sqrt(p_ρ*ρ^2 - Γ*ρ*σ))/ρ)/ρ), Γ*(u*ρ + sqrt(p_ρ*ρ^2 - Γ*ρ*σ))/(ρ*(-p_ρ + u^2 - Γ*(-e + u^2/2) - (u*ρ + sqrt(p_ρ*ρ^2 - Γ*ρ*σ))*(u*(2 - Γ) - (u*ρ + sqrt(p_ρ*ρ^2 - Γ*ρ*σ))/ρ)/ρ)), 1]"
      ]
     },
     "execution_count": 323,
     "metadata": {},
     "output_type": "execute_result"
    }
   ],
   "source": [
    "A = eigvecs(D)\n"
   ]
  },
  {
   "cell_type": "code",
   "execution_count": 329,
   "metadata": {},
   "outputs": [
    {
     "data": {
      "text/latex": [
       "\\begin{equation*}\\frac{2 Γ}{2 e Γ - 2 p_{ρ} + u^{2} Γ}\\end{equation*}"
      ],
      "text/plain": [
       "        2⋅Γ         \n",
       "────────────────────\n",
       "                 2  \n",
       "2⋅e⋅Γ - 2⋅p_ρ + u ⋅Γ"
      ]
     },
     "execution_count": 329,
     "metadata": {},
     "output_type": "execute_result"
    }
   ],
   "source": [
    "l11 = simplify(Γ/(-p_ρ + u^2 - u*(u*(2 - Γ) - u) - Γ*(-e + u^2/2)))"
   ]
  },
  {
   "cell_type": "code",
   "execution_count": 330,
   "metadata": {},
   "outputs": [
    {
     "data": {
      "text/latex": [
       "\\begin{equation*}\\frac{2 u Γ}{2 e Γ - 2 p_{ρ} + u^{2} Γ}\\end{equation*}"
      ],
      "text/plain": [
       "       2⋅u⋅Γ        \n",
       "────────────────────\n",
       "                 2  \n",
       "2⋅e⋅Γ - 2⋅p_ρ + u ⋅Γ"
      ]
     },
     "execution_count": 330,
     "metadata": {},
     "output_type": "execute_result"
    }
   ],
   "source": [
    "l12 = simplify(u*Γ/(-p_ρ + u^2 - u*(u*(2 - Γ) - u) - Γ*(-e + u^2/2)))"
   ]
  },
  {
   "cell_type": "markdown",
   "metadata": {},
   "source": [
    "$$  l_1 = (1 , u,E -\\frac{1}{\\Gamma} \\frac{\\partial p}{\\partial \\rho})$$"
   ]
  },
  {
   "cell_type": "markdown",
   "metadata": {},
   "source": [
    "$$  l_1 = (1 , u,E -\\frac{c^2}{\\Gamma}-\\frac{\\sigma}{\\rho})$$"
   ]
  },
  {
   "cell_type": "code",
   "execution_count": 331,
   "metadata": {},
   "outputs": [
    {
     "data": {
      "text/latex": [
       "\\begin{equation*}\\frac{2 ρ}{2 e ρ + u^{2} ρ - 2 u \\sqrt{ρ \\left(p_{ρ} ρ - Γ σ\\right)} - 2 σ}\\end{equation*}"
      ],
      "text/plain": [
       "                    2⋅ρ                     \n",
       "────────────────────────────────────────────\n",
       "         2           _________________      \n",
       "2⋅e⋅ρ + u ⋅ρ - 2⋅u⋅╲╱ ρ⋅(p_ρ⋅ρ - Γ⋅σ)  - 2⋅σ"
      ]
     },
     "execution_count": 331,
     "metadata": {},
     "output_type": "execute_result"
    }
   ],
   "source": [
    "l21 = simplify(Γ/(-p_ρ + u^2 - Γ*(-e + u^2/2) - (u*ρ - sqrt(p_ρ*ρ^2 - Γ*ρ*σ))*(u*(2 - Γ) - (u*ρ - sqrt(p_ρ*ρ^2 - Γ*ρ*σ))/ρ)/ρ))"
   ]
  },
  {
   "cell_type": "code",
   "execution_count": 332,
   "metadata": {},
   "outputs": [
    {
     "data": {
      "text/latex": [
       "\\begin{equation*}\\frac{2 \\left(u ρ - \\sqrt{ρ \\left(p_{ρ} ρ - Γ σ\\right)}\\right)}{2 e ρ + u^{2} ρ - 2 u \\sqrt{ρ \\left(p_{ρ} ρ - Γ σ\\right)} - 2 σ}\\end{equation*}"
      ],
      "text/plain": [
       "         ⎛        _________________⎞        \n",
       "       2⋅⎝u⋅ρ - ╲╱ ρ⋅(p_ρ⋅ρ - Γ⋅σ) ⎠        \n",
       "────────────────────────────────────────────\n",
       "         2           _________________      \n",
       "2⋅e⋅ρ + u ⋅ρ - 2⋅u⋅╲╱ ρ⋅(p_ρ⋅ρ - Γ⋅σ)  - 2⋅σ"
      ]
     },
     "execution_count": 332,
     "metadata": {},
     "output_type": "execute_result"
    }
   ],
   "source": [
    "l22 = simplify(Γ*(u*ρ - sqrt(p_ρ*ρ^2 - Γ*ρ*σ))/(ρ*(-p_ρ + u^2 - Γ*(-e + u^2/2) - (u*ρ - sqrt(p_ρ*ρ^2 - Γ*ρ*σ))*(u*(2 - Γ) - (u*ρ - sqrt(p_ρ*ρ^2 - Γ*ρ*σ))/ρ)/ρ)))"
   ]
  },
  {
   "cell_type": "markdown",
   "metadata": {},
   "source": [
    "$$ l_2 = (1, u- c, E-uc-\\frac{\\sigma}{\\rho})$$"
   ]
  },
  {
   "cell_type": "code",
   "execution_count": 333,
   "metadata": {},
   "outputs": [
    {
     "data": {
      "text/latex": [
       "\\begin{equation*}\\frac{2 ρ}{2 e ρ + u^{2} ρ + 2 u \\sqrt{ρ \\left(p_{ρ} ρ - Γ σ\\right)} - 2 σ}\\end{equation*}"
      ],
      "text/plain": [
       "                    2⋅ρ                     \n",
       "────────────────────────────────────────────\n",
       "         2           _________________      \n",
       "2⋅e⋅ρ + u ⋅ρ + 2⋅u⋅╲╱ ρ⋅(p_ρ⋅ρ - Γ⋅σ)  - 2⋅σ"
      ]
     },
     "execution_count": 333,
     "metadata": {},
     "output_type": "execute_result"
    }
   ],
   "source": [
    "l31 = simplify(Γ/(-p_ρ + u^2 - Γ*(-e + u^2/2) - (u*ρ + sqrt(p_ρ*ρ^2 - Γ*ρ*σ))*(u*(2 - Γ) - (u*ρ + sqrt(p_ρ*ρ^2 - Γ*ρ*σ))/ρ)/ρ))"
   ]
  },
  {
   "cell_type": "code",
   "execution_count": 334,
   "metadata": {},
   "outputs": [
    {
     "data": {
      "text/latex": [
       "\\begin{equation*}\\frac{2 \\left(u ρ + \\sqrt{ρ \\left(p_{ρ} ρ - Γ σ\\right)}\\right)}{2 e ρ + u^{2} ρ + 2 u \\sqrt{ρ \\left(p_{ρ} ρ - Γ σ\\right)} - 2 σ}\\end{equation*}"
      ],
      "text/plain": [
       "         ⎛        _________________⎞        \n",
       "       2⋅⎝u⋅ρ + ╲╱ ρ⋅(p_ρ⋅ρ - Γ⋅σ) ⎠        \n",
       "────────────────────────────────────────────\n",
       "         2           _________________      \n",
       "2⋅e⋅ρ + u ⋅ρ + 2⋅u⋅╲╱ ρ⋅(p_ρ⋅ρ - Γ⋅σ)  - 2⋅σ"
      ]
     },
     "execution_count": 334,
     "metadata": {},
     "output_type": "execute_result"
    }
   ],
   "source": [
    " l32 = simplify(Γ*(u*ρ + sqrt(p_ρ*ρ^2 - Γ*ρ*σ))/(ρ*(-p_ρ + u^2 - Γ*(-e + u^2/2) - (u*ρ + sqrt(p_ρ*ρ^2 - Γ*ρ*σ))*(u*(2 - Γ) - (u*ρ + sqrt(p_ρ*ρ^2 - Γ*ρ*σ))/ρ)/ρ)))"
   ]
  },
  {
   "cell_type": "markdown",
   "metadata": {},
   "source": [
    "$$ l_2 = (1, u+ c, E+uc-\\frac{\\sigma}{\\rho})$$"
   ]
  },
  {
   "cell_type": "markdown",
   "metadata": {},
   "source": [
    "# 基于原始变量的推导 （not finish）"
   ]
  },
  {
   "cell_type": "code",
   "execution_count": 200,
   "metadata": {},
   "outputs": [
    {
     "data": {
      "text/latex": [
       "\\[\\left[ \\begin{array}{rrr}u&ρ&0\\\\0&u&\\frac{1}{ρ}\\\\0&a^{2} ρ - sxx Γ&u\\end{array}\\right]\\]"
      ],
      "text/plain": [
       "3×3 Array{Sym,2}:\n",
       " u              ρ    0\n",
       " 0              u  1/ρ\n",
       " 0  a^2*ρ - sxx*Γ    u"
      ]
     },
     "execution_count": 200,
     "metadata": {},
     "output_type": "execute_result"
    }
   ],
   "source": [
    "T = sympy.Matrix([u ρ 0; 0 u 1/ρ; 0 ρ*a^2-Γ*sxx u])"
   ]
  },
  {
   "cell_type": "code",
   "execution_count": 201,
   "metadata": {},
   "outputs": [
    {
     "data": {
      "text/latex": [
       "\\[ \\left[ \\begin{array}{r}\\frac{u ρ + \\sqrt{a^{2} ρ^{2} - sxx Γ ρ}}{ρ}\\\\u\\\\\\frac{u ρ - \\sqrt{a^{2} ρ^{2} - sxx Γ ρ}}{ρ}\\end{array} \\right] \\]"
      ],
      "text/plain": [
       "3-element Array{Sym,1}:\n",
       " (u*ρ + sqrt(a^2*ρ^2 - sxx*Γ*ρ))/ρ\n",
       "                                 u\n",
       " (u*ρ - sqrt(a^2*ρ^2 - sxx*Γ*ρ))/ρ"
      ]
     },
     "execution_count": 201,
     "metadata": {},
     "output_type": "execute_result"
    }
   ],
   "source": [
    "A = eigvals(T)"
   ]
  },
  {
   "cell_type": "code",
   "execution_count": 203,
   "metadata": {},
   "outputs": [
    {
     "data": {
      "text/plain": [
       "3-element Array{Array{Sym,1},1}:\n",
       " [1, 0, 0]                                                                                        \n",
       " [(u - (u*ρ - sqrt(a^2*ρ^2 - sxx*Γ*ρ))/ρ)^(-2), -1/(ρ*(u - (u*ρ - sqrt(a^2*ρ^2 - sxx*Γ*ρ))/ρ)), 1]\n",
       " [(u - (u*ρ + sqrt(a^2*ρ^2 - sxx*Γ*ρ))/ρ)^(-2), -1/(ρ*(u - (u*ρ + sqrt(a^2*ρ^2 - sxx*Γ*ρ))/ρ)), 1]"
      ]
     },
     "execution_count": 203,
     "metadata": {},
     "output_type": "execute_result"
    }
   ],
   "source": [
    "A = eigvecs(T)"
   ]
  },
  {
   "cell_type": "code",
   "execution_count": 216,
   "metadata": {},
   "outputs": [
    {
     "data": {
      "text/latex": [
       "\\begin{equation*}\\frac{ρ}{a^{2} ρ - sxx Γ}\\end{equation*}"
      ],
      "text/plain": [
       "     ρ      \n",
       "────────────\n",
       " 2          \n",
       "a ⋅ρ - sxx⋅Γ"
      ]
     },
     "execution_count": 216,
     "metadata": {},
     "output_type": "execute_result"
    }
   ],
   "source": [
    "A1 = (u - (u*ρ - sqrt(a^2*ρ^2 - sxx*Γ*ρ))/ρ)^(-2)\n",
    "simplify(A1)"
   ]
  },
  {
   "cell_type": "code",
   "execution_count": 214,
   "metadata": {},
   "outputs": [
    {
     "data": {
      "text/latex": [
       "\\begin{equation*}- \\frac{1}{\\sqrt{ρ \\left(a^{2} ρ - sxx Γ\\right)}}\\end{equation*}"
      ],
      "text/plain": [
       "         -1          \n",
       "─────────────────────\n",
       "   __________________\n",
       "  ╱   ⎛ 2          ⎞ \n",
       "╲╱  ρ⋅⎝a ⋅ρ - sxx⋅Γ⎠ "
      ]
     },
     "execution_count": 214,
     "metadata": {},
     "output_type": "execute_result"
    }
   ],
   "source": [
    "A2 = -1/(ρ*(u - (u*ρ - sqrt(a^2*ρ^2 - sxx*Γ*ρ))/ρ))\n",
    "simplify(A2)"
   ]
  },
  {
   "cell_type": "code",
   "execution_count": 221,
   "metadata": {},
   "outputs": [
    {
     "data": {
      "text/latex": [
       "\\begin{equation*}\\frac{1}{\\sqrt{ρ \\left(a^{2} ρ - sxx Γ\\right)}}\\end{equation*}"
      ],
      "text/plain": [
       "          1          \n",
       "─────────────────────\n",
       "   __________________\n",
       "  ╱   ⎛ 2          ⎞ \n",
       "╲╱  ρ⋅⎝a ⋅ρ - sxx⋅Γ⎠ "
      ]
     },
     "execution_count": 221,
     "metadata": {},
     "output_type": "execute_result"
    }
   ],
   "source": [
    "A3  = -1/(ρ*(u - (u*ρ + sqrt(a^2*ρ^2 - sxx*Γ*ρ))/ρ))\n",
    "simplify(A3)"
   ]
  },
  {
   "cell_type": "code",
   "execution_count": 160,
   "metadata": {},
   "outputs": [
    {
     "data": {
      "text/latex": [
       "\\[\\left[ \\begin{array}{rr}2 y&2 x - 2 y\\\\2 x - 2 y&- 2 x\\end{array}\\right]\\]"
      ],
      "text/plain": [
       "2×2 Array{Sym,2}:\n",
       "       2*y  2*x - 2*y\n",
       " 2*x - 2*y       -2*x"
      ]
     },
     "execution_count": 160,
     "metadata": {},
     "output_type": "execute_result"
    }
   ],
   "source": [
    "sympy.hessian(ex, (x,y))"
   ]
  }
 ],
 "metadata": {
  "kernelspec": {
   "display_name": "Python 3",
   "language": "python",
   "name": "python3"
  },
  "language_info": {
   "codemirror_mode": {
    "name": "ipython",
    "version": 3
   },
   "file_extension": ".py",
   "mimetype": "text/x-python",
   "name": "python",
   "nbconvert_exporter": "python",
   "pygments_lexer": "ipython3",
   "version": "3.5.2"
  }
 },
 "nbformat": 4,
 "nbformat_minor": 2
}
